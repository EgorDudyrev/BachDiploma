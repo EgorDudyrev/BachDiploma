{
 "cells": [
  {
   "cell_type": "code",
   "execution_count": 1,
   "metadata": {
    "collapsed": true
   },
   "outputs": [],
   "source": [
    "import pandas as pd\n",
    "import os\n",
    "import filecmp\n",
    "import re\n",
    "import numpy as np"
   ]
  },
  {
   "cell_type": "code",
   "execution_count": 2,
   "metadata": {
    "collapsed": true
   },
   "outputs": [],
   "source": [
    "from chord_rec_lib import dnames, format_name"
   ]
  },
  {
   "cell_type": "code",
   "execution_count": 3,
   "metadata": {
    "collapsed": true
   },
   "outputs": [],
   "source": [
    "HEAD_DIR = '..'\n",
    "for d in dnames:\n",
    "    dnames[d] = os.path.join(HEAD_DIR, dnames[d])"
   ]
  },
  {
   "cell_type": "markdown",
   "metadata": {},
   "source": [
    "# Загрузка данных"
   ]
  },
  {
   "cell_type": "markdown",
   "metadata": {},
   "source": [
    "## Billboard DS"
   ]
  },
  {
   "cell_type": "code",
   "execution_count": 17,
   "metadata": {
    "collapsed": true
   },
   "outputs": [],
   "source": [
    "bb_files = []\n",
    "cdir = dnames['BB_DS_DIR']\n",
    "for f in filter(lambda x: os.path.isdir(os.path.join(cdir, x)), os.listdir(cdir)):\n",
    "    nf = os.path.join(cdir, f)\n",
    "    bb_files += list(map(lambda x: os.path.join(nf,x), os.listdir(nf)))"
   ]
  },
  {
   "cell_type": "code",
   "execution_count": 18,
   "metadata": {},
   "outputs": [
    {
     "name": "stdout",
     "output_type": "stream",
     "text": [
      "..\\base_data\\McGill-Billboard\\0050\\salami_chords (2).txt\n",
      "list index out of range\n",
      "..\\base_data\\McGill-Billboard\\0067\\salami_chords (2).txt\n",
      "list index out of range\n",
      "..\\base_data\\McGill-Billboard\\0213\\salami_chords (2).txt\n",
      "list index out of range\n",
      "..\\base_data\\McGill-Billboard\\0241\\salami_chords (2).txt\n",
      "list index out of range\n",
      "..\\base_data\\McGill-Billboard\\0251\\salami_chords (2).txt\n",
      "list index out of range\n",
      "..\\base_data\\McGill-Billboard\\0261\\salami_chords (2).txt\n",
      "list index out of range\n",
      "..\\base_data\\McGill-Billboard\\0331\\salami_chords (2).txt\n",
      "list index out of range\n",
      "..\\base_data\\McGill-Billboard\\0345\\salami_chords (2).txt\n",
      "list index out of range\n",
      "..\\base_data\\McGill-Billboard\\0494\\salami_chords (2).txt\n",
      "list index out of range\n",
      "..\\base_data\\McGill-Billboard\\0590\\salami_chords (2).txt\n",
      "list index out of range\n",
      "..\\base_data\\McGill-Billboard\\0650\\salami_chords (2).txt\n",
      "list index out of range\n",
      "..\\base_data\\McGill-Billboard\\0672\\salami_chords (2).txt\n",
      "list index out of range\n",
      "..\\base_data\\McGill-Billboard\\0727\\salami_chords (2).txt\n",
      "list index out of range\n",
      "..\\base_data\\McGill-Billboard\\0761\\salami_chords (2).txt\n",
      "list index out of range\n",
      "..\\base_data\\McGill-Billboard\\0777\\salami_chords (2).txt\n",
      "list index out of range\n",
      "..\\base_data\\McGill-Billboard\\0787\\salami_chords (2).txt\n",
      "list index out of range\n",
      "..\\base_data\\McGill-Billboard\\0813\\salami_chords (2).txt\n",
      "list index out of range\n",
      "..\\base_data\\McGill-Billboard\\0896\\salami_chords (2).txt\n",
      "list index out of range\n",
      "..\\base_data\\McGill-Billboard\\0904\\salami_chords (2).txt\n",
      "list index out of range\n",
      "..\\base_data\\McGill-Billboard\\0948\\salami_chords (2).txt\n",
      "list index out of range\n",
      "..\\base_data\\McGill-Billboard\\0964\\salami_chords (2).txt\n",
      "list index out of range\n",
      "..\\base_data\\McGill-Billboard\\0965\\salami_chords (2).txt\n",
      "list index out of range\n",
      "..\\base_data\\McGill-Billboard\\1037\\salami_chords (2).txt\n",
      "list index out of range\n",
      "..\\base_data\\McGill-Billboard\\1045\\salami_chords (2).txt\n",
      "list index out of range\n",
      "..\\base_data\\McGill-Billboard\\1103\\salami_chords (2).txt\n",
      "list index out of range\n",
      "..\\base_data\\McGill-Billboard\\1239\\salami_chords (2).txt\n",
      "list index out of range\n"
     ]
    }
   ],
   "source": [
    "bb_ds = pd.DataFrame()\n",
    "cdir = dnames['BB_DS_DIR']\n",
    "for fname in bb_files:\n",
    "    with open(fname) as f:\n",
    "        try:\n",
    "            number, title, artist, metric, tonic = [None]*5\n",
    "            number = re.findall(r'\\d{4}', fname)[0]\n",
    "            title = f.readline().split(': ')[1].strip(' \\n')\n",
    "            artist = f.readline().split(': ')[1].strip(' \\n')\n",
    "            mertric = f.readline().split(': ')[1].strip(' \\n')\n",
    "            tonic = f.readline().split(': ')[1].strip(' \\n')\n",
    "            bb_ds = bb_ds.append({'title':title,'artist':artist, 'number':number, 'orig_ds': 'Billboard',\n",
    "                                  'orig_fname': fname[len(cdir)+1:]},ignore_index=True)\n",
    "        except Exception as e:\n",
    "            print(fname)\n",
    "            print(e)"
   ]
  },
  {
   "cell_type": "code",
   "execution_count": 28,
   "metadata": {},
   "outputs": [],
   "source": [
    "cdir = dnames['BB_PARS_DS_DIR']\n",
    "for idx, row in bb_ds.iterrows():\n",
    "    fname = os.path.join(cdir,row['orig_fname'].replace('salami_chords.txt', 'full.lab'))\n",
    "    fname = os.path.join(cdir, row['number'], 'full.lab')\n",
    "    with open(fname) as f:\n",
    "        lines = f.readlines()\n",
    "        line = ''\n",
    "        while len(line)==0:\n",
    "            line = lines.pop().strip()\n",
    "        bb_ds.loc[idx, 'duration'] = round(float(line.split()[1]),0)\n",
    "bb_ds['duration'] = bb_ds['duration'].astype('int')"
   ]
  },
  {
   "cell_type": "code",
   "execution_count": 29,
   "metadata": {
    "collapsed": true
   },
   "outputs": [],
   "source": [
    "bb_ds.to_csv(os.path.join(dnames['CSVS_DIR'], 'bb_ds_songlist.csv'))"
   ]
  },
  {
   "cell_type": "code",
   "execution_count": 30,
   "metadata": {},
   "outputs": [
    {
     "data": {
      "text/plain": [
       "(890, 6)"
      ]
     },
     "execution_count": 30,
     "metadata": {},
     "output_type": "execute_result"
    }
   ],
   "source": [
    "bb_ds.shape"
   ]
  },
  {
   "cell_type": "code",
   "execution_count": 31,
   "metadata": {},
   "outputs": [
    {
     "data": {
      "text/html": [
       "<div>\n",
       "<style>\n",
       "    .dataframe thead tr:only-child th {\n",
       "        text-align: right;\n",
       "    }\n",
       "\n",
       "    .dataframe thead th {\n",
       "        text-align: left;\n",
       "    }\n",
       "\n",
       "    .dataframe tbody tr th {\n",
       "        vertical-align: top;\n",
       "    }\n",
       "</style>\n",
       "<table border=\"1\" class=\"dataframe\">\n",
       "  <thead>\n",
       "    <tr style=\"text-align: right;\">\n",
       "      <th></th>\n",
       "      <th>artist</th>\n",
       "      <th>number</th>\n",
       "      <th>orig_ds</th>\n",
       "      <th>orig_fname</th>\n",
       "      <th>title</th>\n",
       "      <th>duration</th>\n",
       "    </tr>\n",
       "  </thead>\n",
       "  <tbody>\n",
       "    <tr>\n",
       "      <th>0</th>\n",
       "      <td>James Brown</td>\n",
       "      <td>0003</td>\n",
       "      <td>Billboard</td>\n",
       "      <td>0003\\salami_chords.txt</td>\n",
       "      <td>I Don't mind</td>\n",
       "      <td>151</td>\n",
       "    </tr>\n",
       "    <tr>\n",
       "      <th>1</th>\n",
       "      <td>Roberta Flack and Donny Hathaway</td>\n",
       "      <td>0004</td>\n",
       "      <td>Billboard</td>\n",
       "      <td>0004\\salami_chords.txt</td>\n",
       "      <td>You've got a Friend</td>\n",
       "      <td>207</td>\n",
       "    </tr>\n",
       "    <tr>\n",
       "      <th>2</th>\n",
       "      <td>Bette Midler</td>\n",
       "      <td>0006</td>\n",
       "      <td>Billboard</td>\n",
       "      <td>0006\\salami_chords.txt</td>\n",
       "      <td>The Rose</td>\n",
       "      <td>221</td>\n",
       "    </tr>\n",
       "    <tr>\n",
       "      <th>3</th>\n",
       "      <td>Billy Joel</td>\n",
       "      <td>0010</td>\n",
       "      <td>Billboard</td>\n",
       "      <td>0010\\salami_chords.txt</td>\n",
       "      <td>An Innocent Man</td>\n",
       "      <td>318</td>\n",
       "    </tr>\n",
       "    <tr>\n",
       "      <th>4</th>\n",
       "      <td>Johnny Lee</td>\n",
       "      <td>0012</td>\n",
       "      <td>Billboard</td>\n",
       "      <td>0012\\salami_chords.txt</td>\n",
       "      <td>Lookin' for Love</td>\n",
       "      <td>212</td>\n",
       "    </tr>\n",
       "  </tbody>\n",
       "</table>\n",
       "</div>"
      ],
      "text/plain": [
       "                             artist number    orig_ds              orig_fname  \\\n",
       "0                       James Brown   0003  Billboard  0003\\salami_chords.txt   \n",
       "1  Roberta Flack and Donny Hathaway   0004  Billboard  0004\\salami_chords.txt   \n",
       "2                      Bette Midler   0006  Billboard  0006\\salami_chords.txt   \n",
       "3                        Billy Joel   0010  Billboard  0010\\salami_chords.txt   \n",
       "4                        Johnny Lee   0012  Billboard  0012\\salami_chords.txt   \n",
       "\n",
       "                 title  duration  \n",
       "0         I Don't mind       151  \n",
       "1  You've got a Friend       207  \n",
       "2             The Rose       221  \n",
       "3      An Innocent Man       318  \n",
       "4     Lookin' for Love       212  "
      ]
     },
     "execution_count": 31,
     "metadata": {},
     "output_type": "execute_result"
    }
   ],
   "source": [
    "bb_ds.head()"
   ]
  },
  {
   "cell_type": "markdown",
   "metadata": {},
   "source": [
    "## Chordlib DS"
   ]
  },
  {
   "cell_type": "code",
   "execution_count": 32,
   "metadata": {
    "collapsed": true
   },
   "outputs": [],
   "source": [
    "def find_files(dname, frmt=None):\n",
    "    files = []\n",
    "    for f in os.listdir(dname):\n",
    "        fname = os.path.join(dname, f) \n",
    "        if os.path.isfile(fname):\n",
    "            if frmt:\n",
    "                if fname.endswith(frmt):\n",
    "                    files.append(fname)\n",
    "            else:\n",
    "                files.append(fname)\n",
    "        else:\n",
    "            files += find_files(fname, frmt)\n",
    "    return files"
   ]
  },
  {
   "cell_type": "code",
   "execution_count": 34,
   "metadata": {},
   "outputs": [
    {
     "name": "stdout",
     "output_type": "stream",
     "text": [
      "..\\base_data\\chordlab\\Queen\\Greatest Hits II\\05 I Want To Break Free (2).lab\n",
      "list index out of range\n",
      "..\\base_data\\chordlab\\The Beatles\\01_-_Please_Please_Me\\01_-_I_Saw_Her_Standing_There (2).lab\n",
      "list index out of range\n",
      "..\\base_data\\chordlab\\The Beatles\\01_-_Please_Please_Me\\13_-_There's_A_Place (2).lab\n",
      "list index out of range\n",
      "..\\base_data\\chordlab\\The Beatles\\03_-_A_Hard_Day's_Night\\12_-_You_Can't_Do_That (2).lab\n",
      "list index out of range\n",
      "..\\base_data\\chordlab\\The Beatles\\04_-_Beatles_for_Sale\\01_-_No_Reply (2).lab\n",
      "list index out of range\n",
      "..\\base_data\\chordlab\\The Beatles\\06_-_Rubber_Soul\\08_-_What_Goes_On (2).lab\n",
      "list index out of range\n",
      "..\\base_data\\chordlab\\The Beatles\\06_-_Rubber_Soul\\14_-_Run_For_Your_Life (2).lab\n",
      "list index out of range\n",
      "..\\base_data\\chordlab\\The Beatles\\12_-_Let_It_Be\\11_-_For_You_Blue (2).lab\n",
      "list index out of range\n"
     ]
    }
   ],
   "source": [
    "cdir = dnames['CL_DS_DIR']\n",
    "files = find_files(cdir, frmt='lab')\n",
    "\n",
    "cl_ds = pd.DataFrame()\n",
    "for fname in np.array(files):#[np.random.randint(0,len(files),10)]:\n",
    "    artist = fname.split('\\\\')[3]\n",
    "    title = fname.split('\\\\')[-1]\n",
    "    title = re.sub(r'[-_]', ' ', title).strip()[:-4]\n",
    "    title = re.sub(r'\\b\\d{1,2}', ' ', title, count=1).strip()\n",
    "    title = re.sub(r'CD\\d?', ' ', title).strip()\n",
    "    \n",
    "    with open(fname)as f:\n",
    "        try:\n",
    "            lines = f.readlines()\n",
    "            line = ''\n",
    "            while len(line)==0:\n",
    "                line = lines.pop().strip()\n",
    "            duration = int(round(float(line.split()[1]),0))\n",
    "        except Exception as e:\n",
    "            print(fname)\n",
    "            print(e)\n",
    "    data = {'artist': artist,\n",
    "            'title': title,\n",
    "            'duration': duration,\n",
    "            'orig_ds':'chordlib',\n",
    "            'orig_fname':fname[len(cdir)+1:]}\n",
    "    cl_ds = cl_ds.append(data, ignore_index=True)\n",
    "cl_ds['duration'] = cl_ds['duration'].astype('int')"
   ]
  },
  {
   "cell_type": "code",
   "execution_count": 35,
   "metadata": {
    "collapsed": true
   },
   "outputs": [],
   "source": [
    "cl_ds.to_csv(os.path.join(dnames['CSVS_DIR'], 'cl_ds_songlist.csv'))"
   ]
  },
  {
   "cell_type": "code",
   "execution_count": 36,
   "metadata": {},
   "outputs": [
    {
     "data": {
      "text/plain": [
       "(215, 5)"
      ]
     },
     "execution_count": 36,
     "metadata": {},
     "output_type": "execute_result"
    }
   ],
   "source": [
    "cl_ds.shape"
   ]
  },
  {
   "cell_type": "markdown",
   "metadata": {
    "collapsed": true
   },
   "source": [
    "## Uniting datasets"
   ]
  },
  {
   "cell_type": "code",
   "execution_count": 38,
   "metadata": {},
   "outputs": [
    {
     "data": {
      "text/html": [
       "<div>\n",
       "<style>\n",
       "    .dataframe thead tr:only-child th {\n",
       "        text-align: right;\n",
       "    }\n",
       "\n",
       "    .dataframe thead th {\n",
       "        text-align: left;\n",
       "    }\n",
       "\n",
       "    .dataframe tbody tr th {\n",
       "        vertical-align: top;\n",
       "    }\n",
       "</style>\n",
       "<table border=\"1\" class=\"dataframe\">\n",
       "  <thead>\n",
       "    <tr style=\"text-align: right;\">\n",
       "      <th></th>\n",
       "      <th>artist</th>\n",
       "      <th>duration</th>\n",
       "      <th>number</th>\n",
       "      <th>orig_ds</th>\n",
       "      <th>orig_fname</th>\n",
       "      <th>title</th>\n",
       "      <th>id</th>\n",
       "    </tr>\n",
       "  </thead>\n",
       "  <tbody>\n",
       "    <tr>\n",
       "      <th>0</th>\n",
       "      <td>James Brown</td>\n",
       "      <td>151</td>\n",
       "      <td>0003</td>\n",
       "      <td>Billboard</td>\n",
       "      <td>0003\\salami_chords.txt</td>\n",
       "      <td>I Don't mind</td>\n",
       "      <td>0</td>\n",
       "    </tr>\n",
       "    <tr>\n",
       "      <th>1</th>\n",
       "      <td>Roberta Flack and Donny Hathaway</td>\n",
       "      <td>207</td>\n",
       "      <td>0004</td>\n",
       "      <td>Billboard</td>\n",
       "      <td>0004\\salami_chords.txt</td>\n",
       "      <td>You've got a Friend</td>\n",
       "      <td>1</td>\n",
       "    </tr>\n",
       "    <tr>\n",
       "      <th>2</th>\n",
       "      <td>Bette Midler</td>\n",
       "      <td>221</td>\n",
       "      <td>0006</td>\n",
       "      <td>Billboard</td>\n",
       "      <td>0006\\salami_chords.txt</td>\n",
       "      <td>The Rose</td>\n",
       "      <td>2</td>\n",
       "    </tr>\n",
       "    <tr>\n",
       "      <th>3</th>\n",
       "      <td>Billy Joel</td>\n",
       "      <td>318</td>\n",
       "      <td>0010</td>\n",
       "      <td>Billboard</td>\n",
       "      <td>0010\\salami_chords.txt</td>\n",
       "      <td>An Innocent Man</td>\n",
       "      <td>3</td>\n",
       "    </tr>\n",
       "    <tr>\n",
       "      <th>4</th>\n",
       "      <td>Johnny Lee</td>\n",
       "      <td>212</td>\n",
       "      <td>0012</td>\n",
       "      <td>Billboard</td>\n",
       "      <td>0012\\salami_chords.txt</td>\n",
       "      <td>Lookin' for Love</td>\n",
       "      <td>4</td>\n",
       "    </tr>\n",
       "  </tbody>\n",
       "</table>\n",
       "</div>"
      ],
      "text/plain": [
       "                             artist  duration number    orig_ds  \\\n",
       "0                       James Brown       151   0003  Billboard   \n",
       "1  Roberta Flack and Donny Hathaway       207   0004  Billboard   \n",
       "2                      Bette Midler       221   0006  Billboard   \n",
       "3                        Billy Joel       318   0010  Billboard   \n",
       "4                        Johnny Lee       212   0012  Billboard   \n",
       "\n",
       "               orig_fname                title  id  \n",
       "0  0003\\salami_chords.txt         I Don't mind   0  \n",
       "1  0004\\salami_chords.txt  You've got a Friend   1  \n",
       "2  0006\\salami_chords.txt             The Rose   2  \n",
       "3  0010\\salami_chords.txt      An Innocent Man   3  \n",
       "4  0012\\salami_chords.txt     Lookin' for Love   4  "
      ]
     },
     "execution_count": 38,
     "metadata": {},
     "output_type": "execute_result"
    }
   ],
   "source": [
    "united_ds = pd.concat([bb_ds, cl_ds])\n",
    "united_ds.index = range(len(united_ds))\n",
    "united_ds['id'] = united_ds.index\n",
    "united_ds.head()"
   ]
  },
  {
   "cell_type": "code",
   "execution_count": 39,
   "metadata": {
    "collapsed": true
   },
   "outputs": [],
   "source": [
    "united_ds.to_csv(os.path.join(dnames['CSVS_DIR'], 'united_ds_songlist.csv'))"
   ]
  },
  {
   "cell_type": "code",
   "execution_count": 40,
   "metadata": {
    "collapsed": true
   },
   "outputs": [],
   "source": [
    "united_ds = pd.read_csv(os.path.join(dnames['CSVS_DIR'], 'united_ds_songlist.csv'), index_col=0)"
   ]
  },
  {
   "cell_type": "code",
   "execution_count": 41,
   "metadata": {},
   "outputs": [
    {
     "data": {
      "text/html": [
       "<div>\n",
       "<style>\n",
       "    .dataframe thead tr:only-child th {\n",
       "        text-align: right;\n",
       "    }\n",
       "\n",
       "    .dataframe thead th {\n",
       "        text-align: left;\n",
       "    }\n",
       "\n",
       "    .dataframe tbody tr th {\n",
       "        vertical-align: top;\n",
       "    }\n",
       "</style>\n",
       "<table border=\"1\" class=\"dataframe\">\n",
       "  <thead>\n",
       "    <tr style=\"text-align: right;\">\n",
       "      <th></th>\n",
       "      <th>artist</th>\n",
       "      <th>duration</th>\n",
       "      <th>number</th>\n",
       "      <th>orig_ds</th>\n",
       "      <th>orig_fname</th>\n",
       "      <th>title</th>\n",
       "      <th>id</th>\n",
       "    </tr>\n",
       "  </thead>\n",
       "  <tbody>\n",
       "    <tr>\n",
       "      <th>0</th>\n",
       "      <td>James Brown</td>\n",
       "      <td>151</td>\n",
       "      <td>3.0</td>\n",
       "      <td>Billboard</td>\n",
       "      <td>0003\\salami_chords.txt</td>\n",
       "      <td>I Don't mind</td>\n",
       "      <td>0</td>\n",
       "    </tr>\n",
       "    <tr>\n",
       "      <th>1</th>\n",
       "      <td>Roberta Flack and Donny Hathaway</td>\n",
       "      <td>207</td>\n",
       "      <td>4.0</td>\n",
       "      <td>Billboard</td>\n",
       "      <td>0004\\salami_chords.txt</td>\n",
       "      <td>You've got a Friend</td>\n",
       "      <td>1</td>\n",
       "    </tr>\n",
       "    <tr>\n",
       "      <th>2</th>\n",
       "      <td>Bette Midler</td>\n",
       "      <td>221</td>\n",
       "      <td>6.0</td>\n",
       "      <td>Billboard</td>\n",
       "      <td>0006\\salami_chords.txt</td>\n",
       "      <td>The Rose</td>\n",
       "      <td>2</td>\n",
       "    </tr>\n",
       "    <tr>\n",
       "      <th>3</th>\n",
       "      <td>Billy Joel</td>\n",
       "      <td>318</td>\n",
       "      <td>10.0</td>\n",
       "      <td>Billboard</td>\n",
       "      <td>0010\\salami_chords.txt</td>\n",
       "      <td>An Innocent Man</td>\n",
       "      <td>3</td>\n",
       "    </tr>\n",
       "    <tr>\n",
       "      <th>4</th>\n",
       "      <td>Johnny Lee</td>\n",
       "      <td>212</td>\n",
       "      <td>12.0</td>\n",
       "      <td>Billboard</td>\n",
       "      <td>0012\\salami_chords.txt</td>\n",
       "      <td>Lookin' for Love</td>\n",
       "      <td>4</td>\n",
       "    </tr>\n",
       "  </tbody>\n",
       "</table>\n",
       "</div>"
      ],
      "text/plain": [
       "                             artist  duration  number    orig_ds  \\\n",
       "0                       James Brown       151     3.0  Billboard   \n",
       "1  Roberta Flack and Donny Hathaway       207     4.0  Billboard   \n",
       "2                      Bette Midler       221     6.0  Billboard   \n",
       "3                        Billy Joel       318    10.0  Billboard   \n",
       "4                        Johnny Lee       212    12.0  Billboard   \n",
       "\n",
       "               orig_fname                title  id  \n",
       "0  0003\\salami_chords.txt         I Don't mind   0  \n",
       "1  0004\\salami_chords.txt  You've got a Friend   1  \n",
       "2  0006\\salami_chords.txt             The Rose   2  \n",
       "3  0010\\salami_chords.txt      An Innocent Man   3  \n",
       "4  0012\\salami_chords.txt     Lookin' for Love   4  "
      ]
     },
     "execution_count": 41,
     "metadata": {},
     "output_type": "execute_result"
    }
   ],
   "source": [
    "united_ds.head()"
   ]
  },
  {
   "cell_type": "code",
   "execution_count": 42,
   "metadata": {},
   "outputs": [
    {
     "data": {
      "text/html": [
       "<div>\n",
       "<style>\n",
       "    .dataframe thead tr:only-child th {\n",
       "        text-align: right;\n",
       "    }\n",
       "\n",
       "    .dataframe thead th {\n",
       "        text-align: left;\n",
       "    }\n",
       "\n",
       "    .dataframe tbody tr th {\n",
       "        vertical-align: top;\n",
       "    }\n",
       "</style>\n",
       "<table border=\"1\" class=\"dataframe\">\n",
       "  <thead>\n",
       "    <tr style=\"text-align: right;\">\n",
       "      <th></th>\n",
       "      <th>artist</th>\n",
       "      <th>duration</th>\n",
       "      <th>number</th>\n",
       "      <th>orig_ds</th>\n",
       "      <th>orig_fname</th>\n",
       "      <th>title</th>\n",
       "      <th>id</th>\n",
       "    </tr>\n",
       "  </thead>\n",
       "  <tbody>\n",
       "    <tr>\n",
       "      <th>0</th>\n",
       "      <td>James Brown</td>\n",
       "      <td>151</td>\n",
       "      <td>3.0</td>\n",
       "      <td>Billboard</td>\n",
       "      <td>0003\\salami_chords.txt</td>\n",
       "      <td>I Don't mind</td>\n",
       "      <td>0</td>\n",
       "    </tr>\n",
       "    <tr>\n",
       "      <th>1</th>\n",
       "      <td>Roberta Flack and Donny Hathaway</td>\n",
       "      <td>207</td>\n",
       "      <td>4.0</td>\n",
       "      <td>Billboard</td>\n",
       "      <td>0004\\salami_chords.txt</td>\n",
       "      <td>You've got a Friend</td>\n",
       "      <td>1</td>\n",
       "    </tr>\n",
       "    <tr>\n",
       "      <th>2</th>\n",
       "      <td>Bette Midler</td>\n",
       "      <td>221</td>\n",
       "      <td>6.0</td>\n",
       "      <td>Billboard</td>\n",
       "      <td>0006\\salami_chords.txt</td>\n",
       "      <td>The Rose</td>\n",
       "      <td>2</td>\n",
       "    </tr>\n",
       "    <tr>\n",
       "      <th>3</th>\n",
       "      <td>Billy Joel</td>\n",
       "      <td>318</td>\n",
       "      <td>10.0</td>\n",
       "      <td>Billboard</td>\n",
       "      <td>0010\\salami_chords.txt</td>\n",
       "      <td>An Innocent Man</td>\n",
       "      <td>3</td>\n",
       "    </tr>\n",
       "    <tr>\n",
       "      <th>4</th>\n",
       "      <td>Johnny Lee</td>\n",
       "      <td>212</td>\n",
       "      <td>12.0</td>\n",
       "      <td>Billboard</td>\n",
       "      <td>0012\\salami_chords.txt</td>\n",
       "      <td>Lookin' for Love</td>\n",
       "      <td>4</td>\n",
       "    </tr>\n",
       "  </tbody>\n",
       "</table>\n",
       "</div>"
      ],
      "text/plain": [
       "                             artist  duration  number    orig_ds  \\\n",
       "0                       James Brown       151     3.0  Billboard   \n",
       "1  Roberta Flack and Donny Hathaway       207     4.0  Billboard   \n",
       "2                      Bette Midler       221     6.0  Billboard   \n",
       "3                        Billy Joel       318    10.0  Billboard   \n",
       "4                        Johnny Lee       212    12.0  Billboard   \n",
       "\n",
       "               orig_fname                title  id  \n",
       "0  0003\\salami_chords.txt         I Don't mind   0  \n",
       "1  0004\\salami_chords.txt  You've got a Friend   1  \n",
       "2  0006\\salami_chords.txt             The Rose   2  \n",
       "3  0010\\salami_chords.txt      An Innocent Man   3  \n",
       "4  0012\\salami_chords.txt     Lookin' for Love   4  "
      ]
     },
     "execution_count": 42,
     "metadata": {},
     "output_type": "execute_result"
    }
   ],
   "source": [
    "united_ds.head()"
   ]
  },
  {
   "cell_type": "code",
   "execution_count": 43,
   "metadata": {
    "collapsed": true
   },
   "outputs": [],
   "source": [
    "united_ds['artist'] = united_ds['artist'].map(format_name)\n",
    "united_ds['title'] = united_ds['title'].map(format_name)"
   ]
  },
  {
   "cell_type": "code",
   "execution_count": 44,
   "metadata": {},
   "outputs": [
    {
     "data": {
      "text/html": [
       "<div>\n",
       "<style>\n",
       "    .dataframe thead tr:only-child th {\n",
       "        text-align: right;\n",
       "    }\n",
       "\n",
       "    .dataframe thead th {\n",
       "        text-align: left;\n",
       "    }\n",
       "\n",
       "    .dataframe tbody tr th {\n",
       "        vertical-align: top;\n",
       "    }\n",
       "</style>\n",
       "<table border=\"1\" class=\"dataframe\">\n",
       "  <thead>\n",
       "    <tr style=\"text-align: right;\">\n",
       "      <th></th>\n",
       "      <th>artist</th>\n",
       "      <th>duration</th>\n",
       "      <th>number</th>\n",
       "      <th>orig_ds</th>\n",
       "      <th>orig_fname</th>\n",
       "      <th>title</th>\n",
       "      <th>id</th>\n",
       "    </tr>\n",
       "  </thead>\n",
       "  <tbody>\n",
       "    <tr>\n",
       "      <th>0</th>\n",
       "      <td>james_brown</td>\n",
       "      <td>151</td>\n",
       "      <td>3.0</td>\n",
       "      <td>Billboard</td>\n",
       "      <td>0003\\salami_chords.txt</td>\n",
       "      <td>i_don't_mind</td>\n",
       "      <td>0</td>\n",
       "    </tr>\n",
       "    <tr>\n",
       "      <th>1</th>\n",
       "      <td>roberta_flack_and_donny_hathaway</td>\n",
       "      <td>207</td>\n",
       "      <td>4.0</td>\n",
       "      <td>Billboard</td>\n",
       "      <td>0004\\salami_chords.txt</td>\n",
       "      <td>you've_got_a_friend</td>\n",
       "      <td>1</td>\n",
       "    </tr>\n",
       "    <tr>\n",
       "      <th>2</th>\n",
       "      <td>bette_midler</td>\n",
       "      <td>221</td>\n",
       "      <td>6.0</td>\n",
       "      <td>Billboard</td>\n",
       "      <td>0006\\salami_chords.txt</td>\n",
       "      <td>the_rose</td>\n",
       "      <td>2</td>\n",
       "    </tr>\n",
       "    <tr>\n",
       "      <th>3</th>\n",
       "      <td>billy_joel</td>\n",
       "      <td>318</td>\n",
       "      <td>10.0</td>\n",
       "      <td>Billboard</td>\n",
       "      <td>0010\\salami_chords.txt</td>\n",
       "      <td>an_innocent_man</td>\n",
       "      <td>3</td>\n",
       "    </tr>\n",
       "    <tr>\n",
       "      <th>4</th>\n",
       "      <td>johnny_lee</td>\n",
       "      <td>212</td>\n",
       "      <td>12.0</td>\n",
       "      <td>Billboard</td>\n",
       "      <td>0012\\salami_chords.txt</td>\n",
       "      <td>lookin'_for_love</td>\n",
       "      <td>4</td>\n",
       "    </tr>\n",
       "  </tbody>\n",
       "</table>\n",
       "</div>"
      ],
      "text/plain": [
       "                             artist  duration  number    orig_ds  \\\n",
       "0                       james_brown       151     3.0  Billboard   \n",
       "1  roberta_flack_and_donny_hathaway       207     4.0  Billboard   \n",
       "2                      bette_midler       221     6.0  Billboard   \n",
       "3                        billy_joel       318    10.0  Billboard   \n",
       "4                        johnny_lee       212    12.0  Billboard   \n",
       "\n",
       "               orig_fname                title  id  \n",
       "0  0003\\salami_chords.txt         i_don't_mind   0  \n",
       "1  0004\\salami_chords.txt  you've_got_a_friend   1  \n",
       "2  0006\\salami_chords.txt             the_rose   2  \n",
       "3  0010\\salami_chords.txt      an_innocent_man   3  \n",
       "4  0012\\salami_chords.txt     lookin'_for_love   4  "
      ]
     },
     "execution_count": 44,
     "metadata": {},
     "output_type": "execute_result"
    }
   ],
   "source": [
    "united_ds.head()"
   ]
  },
  {
   "cell_type": "code",
   "execution_count": 45,
   "metadata": {
    "collapsed": true
   },
   "outputs": [],
   "source": [
    "united_ds.to_csv(os.path.join(dnames['CSVS_DIR'], 'united_ds_songlist.csv'))"
   ]
  },
  {
   "cell_type": "markdown",
   "metadata": {},
   "source": [
    "# Проверка есть ли одинаковые файлы\n",
    "### Спойлер - есть"
   ]
  },
  {
   "cell_type": "code",
   "execution_count": 46,
   "metadata": {},
   "outputs": [
    {
     "data": {
      "text/plain": [
       "(1105, 7)"
      ]
     },
     "execution_count": 46,
     "metadata": {},
     "output_type": "execute_result"
    }
   ],
   "source": [
    "united_ds.shape"
   ]
  },
  {
   "cell_type": "code",
   "execution_count": 47,
   "metadata": {},
   "outputs": [
    {
     "data": {
      "text/plain": [
       "158"
      ]
     },
     "execution_count": 47,
     "metadata": {},
     "output_type": "execute_result"
    }
   ],
   "source": [
    "united_ds[['artist', 'title']].duplicated().sum()"
   ]
  },
  {
   "cell_type": "code",
   "execution_count": 48,
   "metadata": {},
   "outputs": [
    {
     "data": {
      "text/plain": [
       "Index(['25_or_6_to_4', 'a_taste_of_honey', 'abba', 'aerosmith', 'al_green',\n",
       "       'alabama', 'alan_o'day', 'alice_cooper',\n",
       "       'always_something_there_to_remind_me', 'andy_gibb',\n",
       "       ...\n",
       "       'wednesday', 'wham!', 'whitesnake', 'wild_cherry', 'willie_mitchell',\n",
       "       'wilson_phillips', 'wilson_pickett', 'yaz', 'young_mc', 'zz_top'],\n",
       "      dtype='object', name='artist', length=443)"
      ]
     },
     "execution_count": 48,
     "metadata": {},
     "output_type": "execute_result"
    }
   ],
   "source": [
    "counts = united_ds.groupby(['artist','title', 'orig_ds']).agg('count')['id']\n",
    "counts[counts>1].sort_values(ascending=False).index.levels[0]"
   ]
  },
  {
   "cell_type": "code",
   "execution_count": 49,
   "metadata": {},
   "outputs": [
    {
     "data": {
      "text/plain": [
       "(947, 7)"
      ]
     },
     "execution_count": 49,
     "metadata": {},
     "output_type": "execute_result"
    }
   ],
   "source": [
    "united_ds = united_ds[[not x for x in united_ds[['artist','title']].duplicated()]]\n",
    "united_ds.shape"
   ]
  },
  {
   "cell_type": "code",
   "execution_count": 50,
   "metadata": {
    "collapsed": true
   },
   "outputs": [],
   "source": [
    "united_ds.index = range(len(united_ds))\n",
    "united_ds['id'] = united_ds.index"
   ]
  },
  {
   "cell_type": "code",
   "execution_count": 51,
   "metadata": {},
   "outputs": [
    {
     "data": {
      "text/html": [
       "<div>\n",
       "<style>\n",
       "    .dataframe thead tr:only-child th {\n",
       "        text-align: right;\n",
       "    }\n",
       "\n",
       "    .dataframe thead th {\n",
       "        text-align: left;\n",
       "    }\n",
       "\n",
       "    .dataframe tbody tr th {\n",
       "        vertical-align: top;\n",
       "    }\n",
       "</style>\n",
       "<table border=\"1\" class=\"dataframe\">\n",
       "  <thead>\n",
       "    <tr style=\"text-align: right;\">\n",
       "      <th></th>\n",
       "      <th>artist</th>\n",
       "      <th>duration</th>\n",
       "      <th>number</th>\n",
       "      <th>orig_ds</th>\n",
       "      <th>orig_fname</th>\n",
       "      <th>title</th>\n",
       "      <th>id</th>\n",
       "    </tr>\n",
       "  </thead>\n",
       "  <tbody>\n",
       "    <tr>\n",
       "      <th>0</th>\n",
       "      <td>james_brown</td>\n",
       "      <td>151</td>\n",
       "      <td>3.0</td>\n",
       "      <td>Billboard</td>\n",
       "      <td>0003\\salami_chords.txt</td>\n",
       "      <td>i_don't_mind</td>\n",
       "      <td>0</td>\n",
       "    </tr>\n",
       "    <tr>\n",
       "      <th>1</th>\n",
       "      <td>roberta_flack_and_donny_hathaway</td>\n",
       "      <td>207</td>\n",
       "      <td>4.0</td>\n",
       "      <td>Billboard</td>\n",
       "      <td>0004\\salami_chords.txt</td>\n",
       "      <td>you've_got_a_friend</td>\n",
       "      <td>1</td>\n",
       "    </tr>\n",
       "    <tr>\n",
       "      <th>2</th>\n",
       "      <td>bette_midler</td>\n",
       "      <td>221</td>\n",
       "      <td>6.0</td>\n",
       "      <td>Billboard</td>\n",
       "      <td>0006\\salami_chords.txt</td>\n",
       "      <td>the_rose</td>\n",
       "      <td>2</td>\n",
       "    </tr>\n",
       "    <tr>\n",
       "      <th>3</th>\n",
       "      <td>billy_joel</td>\n",
       "      <td>318</td>\n",
       "      <td>10.0</td>\n",
       "      <td>Billboard</td>\n",
       "      <td>0010\\salami_chords.txt</td>\n",
       "      <td>an_innocent_man</td>\n",
       "      <td>3</td>\n",
       "    </tr>\n",
       "    <tr>\n",
       "      <th>4</th>\n",
       "      <td>johnny_lee</td>\n",
       "      <td>212</td>\n",
       "      <td>12.0</td>\n",
       "      <td>Billboard</td>\n",
       "      <td>0012\\salami_chords.txt</td>\n",
       "      <td>lookin'_for_love</td>\n",
       "      <td>4</td>\n",
       "    </tr>\n",
       "  </tbody>\n",
       "</table>\n",
       "</div>"
      ],
      "text/plain": [
       "                             artist  duration  number    orig_ds  \\\n",
       "0                       james_brown       151     3.0  Billboard   \n",
       "1  roberta_flack_and_donny_hathaway       207     4.0  Billboard   \n",
       "2                      bette_midler       221     6.0  Billboard   \n",
       "3                        billy_joel       318    10.0  Billboard   \n",
       "4                        johnny_lee       212    12.0  Billboard   \n",
       "\n",
       "               orig_fname                title  id  \n",
       "0  0003\\salami_chords.txt         i_don't_mind   0  \n",
       "1  0004\\salami_chords.txt  you've_got_a_friend   1  \n",
       "2  0006\\salami_chords.txt             the_rose   2  \n",
       "3  0010\\salami_chords.txt      an_innocent_man   3  \n",
       "4  0012\\salami_chords.txt     lookin'_for_love   4  "
      ]
     },
     "execution_count": 51,
     "metadata": {},
     "output_type": "execute_result"
    }
   ],
   "source": [
    "united_ds.head()"
   ]
  },
  {
   "cell_type": "code",
   "execution_count": 52,
   "metadata": {
    "collapsed": true
   },
   "outputs": [],
   "source": [
    "united_ds.to_csv(os.path.join(dnames['CSVS_DIR'], 'united_ds_songlist.csv'))"
   ]
  }
 ],
 "metadata": {
  "kernelspec": {
   "display_name": "Python 3",
   "language": "python",
   "name": "python3"
  },
  "language_info": {
   "codemirror_mode": {
    "name": "ipython",
    "version": 3
   },
   "file_extension": ".py",
   "mimetype": "text/x-python",
   "name": "python",
   "nbconvert_exporter": "python",
   "pygments_lexer": "ipython3",
   "version": "3.6.3"
  }
 },
 "nbformat": 4,
 "nbformat_minor": 2
}
