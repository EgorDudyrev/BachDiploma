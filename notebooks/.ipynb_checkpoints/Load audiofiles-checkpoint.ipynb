{
 "cells": [
  {
   "cell_type": "markdown",
   "metadata": {},
   "source": [
    "# Описание ноутбука\n",
    "Парсинг сайтов и скачивание mp3 аудиофайлов с интернета"
   ]
  },
  {
   "cell_type": "code",
   "execution_count": 1,
   "metadata": {
    "collapsed": true
   },
   "outputs": [],
   "source": [
    "import os\n",
    "import pandas as pd\n",
    "import numpy as np\n",
    "import requests\n",
    "from bs4 import BeautifulSoup\n",
    "from tqdm import tqdm_notebook"
   ]
  },
  {
   "cell_type": "code",
   "execution_count": 2,
   "metadata": {
    "collapsed": true
   },
   "outputs": [],
   "source": [
    "from chord_rec_lib import format_name, find_files"
   ]
  },
  {
   "cell_type": "code",
   "execution_count": 3,
   "metadata": {
    "collapsed": true
   },
   "outputs": [],
   "source": [
    "import importlib"
   ]
  },
  {
   "cell_type": "code",
   "execution_count": 4,
   "metadata": {
    "collapsed": true
   },
   "outputs": [],
   "source": [
    "from chord_rec_lib import dnames\n",
    "\n",
    "dnames['RAW_SONGS_DIR'] = 'raw_songs'\n",
    "\n",
    "HEAD_DIR = '..'\n",
    "for d in dnames:\n",
    "    dnames[d] = os.path.join(HEAD_DIR, dnames[d])"
   ]
  },
  {
   "cell_type": "code",
   "execution_count": 5,
   "metadata": {
    "collapsed": true
   },
   "outputs": [],
   "source": [
    "not_include = ['cover', 'remix', 'live', 'mix'] # Запрещённые слова для названий песен todo: 'Live'?\n",
    "max_eps = 3 # Максимальное отклонение от заданной длины дорожки (в секундах)"
   ]
  },
  {
   "cell_type": "code",
   "execution_count": 6,
   "metadata": {
    "collapsed": true
   },
   "outputs": [],
   "source": [
    "def secs_to_string(secs):\n",
    "    m = str(secs//60)\n",
    "    if len(m)==1:\n",
    "        m = '0'+m\n",
    "    s = str(secs%60)\n",
    "    if len(s)==1:\n",
    "        s = '0'+s\n",
    "    return ':'.join([m,s])"
   ]
  },
  {
   "cell_type": "code",
   "execution_count": 7,
   "metadata": {
    "collapsed": true
   },
   "outputs": [],
   "source": [
    "def string_to_secs(string):\n",
    "    m,s = map(int,string.split(':'))\n",
    "    return m*60+s"
   ]
  },
  {
   "cell_type": "code",
   "execution_count": 8,
   "metadata": {
    "collapsed": true
   },
   "outputs": [],
   "source": [
    "def parse_duration(track_html, verbose=False):\n",
    "    if verbose: print('parsing_duration')\n",
    "    d = track_html.find('em')\n",
    "    while True:\n",
    "        try:\n",
    "            d.div.decompose()\n",
    "        except:\n",
    "            break\n",
    "    if verbose: print('parsing_duration point1')\n",
    "    while True:\n",
    "        try:\n",
    "            d.a.decompose()\n",
    "        except:\n",
    "            break\n",
    "    if verbose: print('parsing_duration point2')\n",
    "    return d.text.split()[0]"
   ]
  },
  {
   "cell_type": "code",
   "execution_count": 9,
   "metadata": {
    "collapsed": true
   },
   "outputs": [],
   "source": [
    "def download_file(id, href):\n",
    "    fname = os.path.join(dnames['RAW_SONGS_DIR'], '{}.mp3'.format(id))\n",
    "    try:\n",
    "        !wget -q -nc -t 1 -O {fname} '{href}'\n",
    "    except:\n",
    "        raise Exception('Found but not downloaded')"
   ]
  },
  {
   "cell_type": "code",
   "execution_count": null,
   "metadata": {
    "collapsed": true
   },
   "outputs": [],
   "source": []
  },
  {
   "cell_type": "code",
   "execution_count": 10,
   "metadata": {
    "collapsed": true
   },
   "outputs": [],
   "source": [
    "def parse_ipleer(artist, title, duration, verbose=False):\n",
    "    artist, title = artist.lower(), title.lower()\n",
    "    \n",
    "    SEARCH_URL = 'https://ipleer.fm/search/q/'\n",
    "    SONGS_URL = 'https://ipleer.fm'\n",
    "    \n",
    "    url = SEARCH_URL+format_name('{}+{}/'.format(artist, title), space_replacer='+')\n",
    "    list_page = requests.get(url=url)\n",
    "    \n",
    "    if list_page.status_code != 200:\n",
    "        raise Exception('List_page_not_found')\n",
    "    \n",
    "    list_soup = BeautifulSoup(list_page.text, 'html.parser')\n",
    "    tracks = list_soup.find_all('li',class_='track')\n",
    "    ntracks = []\n",
    "    for track_id,track in enumerate(tracks):\n",
    "        try:\n",
    "            a = format_name(track.find('span',class_='cartist').text, space_replacer=' ')\n",
    "            t = format_name(track.find('span',class_='ctitle').text, space_replacer=' ')\n",
    "            d = parse_duration(track)\n",
    "            h = track.find('a',class_='playlist-down').get('href')\n",
    "        except:\n",
    "            a,t,d, h = None, None, None, None\n",
    "        if a and t and d and h:\n",
    "            a_t = '{a} {t}'.format(a=a, t=t)\n",
    "            if any(map(lambda x: x in a_t.split(), not_include)):\n",
    "                if verbose:\n",
    "                    print('checking 1')\n",
    "                    print(a_t)\n",
    "                    print(artist, title)\n",
    "                continue\n",
    "            # Если кавер или ремикс (автор и название могут быть перепутаны местами)\n",
    "            #if len(list(filter(lambda x: x in t.lower(), not_include)))>0\\\n",
    "            # or len(list(filter(lambda x: x in a.lower(), not_include)))>0:\n",
    "            #    continue\n",
    "            # Если автор не совпадает с заданным (автор и название могут быть перепутаны местами)\n",
    "            if not all(map(lambda x: x in a_t.split(), title.split('_'))) \\\n",
    "                or not all(map(lambda x: x in a_t.split(), artist.split('_'))):\n",
    "                if verbose:\n",
    "                    print('checking 2')\n",
    "                    print('a t:', a_t, a_t.split())\n",
    "                    print(artist.split('_'), title.split('_'))\n",
    "    #            print('1.0)', list(map(lambda x: x in a_t.split(),  title.split())))\n",
    "    #            print('1.5)', all(map(lambda x: x in a_t.split(),  title.split())))\n",
    "    #            print('2.0)', list(map(lambda x: x in a_t.split(), artist.split())))\n",
    "    #            print('2.5)', all(map(lambda x: x in a_t.split(), artist.split())))\n",
    "    #            print(title.split())\n",
    "                continue\n",
    "            #if len(list(filter(lambda x: x in a, artist.split()))) != len(artist.split())\\\n",
    "            # and len(list(filter(lambda x: x in t, artist.split()))) != len(artist.split()):\n",
    "            #    continue\n",
    "            # Если название не совпадает с заданным (автор и название могут быть перепутаны местами)\n",
    "            #if len(list(filter(lambda x: x in t, title.split()))) != len(title.split())\\\n",
    "            # and len(list(filter(lambda x: x in a, title.split()))) != len(title.split()):\n",
    "            #    continue\n",
    "            try:\n",
    "                d = abs(string_to_secs(d)-string_to_secs(duration))\n",
    "            except:\n",
    "                continue\n",
    "            if d > max_eps:\n",
    "                continue\n",
    "           \n",
    "            ntracks.append({'artist':a, 'title':t, 'time_delta':d, 'href':h, 'track':track})\n",
    "    \n",
    "    if len(ntracks)==0:\n",
    "        raise Exception('No_correct_songs_found',url)\n",
    "    \n",
    "    ntracks = sorted(ntracks, key= lambda x: x['time_delta'])\n",
    "    \n",
    "    dur_eps = 0\n",
    "    for track in ntracks:\n",
    "        download_page = requests.get(SONGS_URL+track['href'])\n",
    "        if download_page.status_code == 200:\n",
    "            dur_eps = track['time_delta']\n",
    "            break\n",
    "    if download_page.status_code != 200:\n",
    "        raise Exception('Download_page_not_found')\n",
    "        \n",
    "    download_soup = BeautifulSoup(download_page.text, 'html.parser')\n",
    "    download_href = download_soup.find('a',class_='onesongblock-download').get('href')\n",
    "    \n",
    "    return download_href, download_page.url, dur_eps"
   ]
  },
  {
   "cell_type": "code",
   "execution_count": 11,
   "metadata": {
    "collapsed": true
   },
   "outputs": [],
   "source": [
    "ds = pd.read_csv(os.path.join(dnames['CSVS_DIR'], 'united_ds_songlist.csv'), index_col=0)\n",
    "ds['href']='nan'\n",
    "ds['status']='nan'\n",
    "ds['t_eps']=None"
   ]
  },
  {
   "cell_type": "code",
   "execution_count": 12,
   "metadata": {
    "collapsed": true
   },
   "outputs": [],
   "source": [
    "ds.to_csv(os.path.join(dnames['CSVS_DIR'], 'downloaded_songlist.csv'))"
   ]
  },
  {
   "cell_type": "code",
   "execution_count": 13,
   "metadata": {},
   "outputs": [
    {
     "data": {
      "text/html": [
       "<div>\n",
       "<style>\n",
       "    .dataframe thead tr:only-child th {\n",
       "        text-align: right;\n",
       "    }\n",
       "\n",
       "    .dataframe thead th {\n",
       "        text-align: left;\n",
       "    }\n",
       "\n",
       "    .dataframe tbody tr th {\n",
       "        vertical-align: top;\n",
       "    }\n",
       "</style>\n",
       "<table border=\"1\" class=\"dataframe\">\n",
       "  <thead>\n",
       "    <tr style=\"text-align: right;\">\n",
       "      <th></th>\n",
       "      <th>artist</th>\n",
       "      <th>duration</th>\n",
       "      <th>number</th>\n",
       "      <th>orig_ds</th>\n",
       "      <th>orig_fname</th>\n",
       "      <th>title</th>\n",
       "      <th>id</th>\n",
       "      <th>href</th>\n",
       "      <th>status</th>\n",
       "      <th>t_eps</th>\n",
       "    </tr>\n",
       "  </thead>\n",
       "  <tbody>\n",
       "    <tr>\n",
       "      <th>0</th>\n",
       "      <td>james_brown</td>\n",
       "      <td>151</td>\n",
       "      <td>3.0</td>\n",
       "      <td>Billboard</td>\n",
       "      <td>0003\\salami_chords.txt</td>\n",
       "      <td>i_dont_mind</td>\n",
       "      <td>0</td>\n",
       "      <td>nan</td>\n",
       "      <td>nan</td>\n",
       "      <td>None</td>\n",
       "    </tr>\n",
       "    <tr>\n",
       "      <th>1</th>\n",
       "      <td>roberta_flack_and_donny_hathaway</td>\n",
       "      <td>207</td>\n",
       "      <td>4.0</td>\n",
       "      <td>Billboard</td>\n",
       "      <td>0004\\salami_chords.txt</td>\n",
       "      <td>youve_got__friend</td>\n",
       "      <td>1</td>\n",
       "      <td>nan</td>\n",
       "      <td>nan</td>\n",
       "      <td>None</td>\n",
       "    </tr>\n",
       "    <tr>\n",
       "      <th>2</th>\n",
       "      <td>bette_midler</td>\n",
       "      <td>221</td>\n",
       "      <td>6.0</td>\n",
       "      <td>Billboard</td>\n",
       "      <td>0006\\salami_chords.txt</td>\n",
       "      <td>rose</td>\n",
       "      <td>2</td>\n",
       "      <td>nan</td>\n",
       "      <td>nan</td>\n",
       "      <td>None</td>\n",
       "    </tr>\n",
       "    <tr>\n",
       "      <th>3</th>\n",
       "      <td>billy_joel</td>\n",
       "      <td>318</td>\n",
       "      <td>10.0</td>\n",
       "      <td>Billboard</td>\n",
       "      <td>0010\\salami_chords.txt</td>\n",
       "      <td>innocent_man</td>\n",
       "      <td>3</td>\n",
       "      <td>nan</td>\n",
       "      <td>nan</td>\n",
       "      <td>None</td>\n",
       "    </tr>\n",
       "    <tr>\n",
       "      <th>4</th>\n",
       "      <td>johnny_lee</td>\n",
       "      <td>212</td>\n",
       "      <td>12.0</td>\n",
       "      <td>Billboard</td>\n",
       "      <td>0012\\salami_chords.txt</td>\n",
       "      <td>lookin_for_love</td>\n",
       "      <td>4</td>\n",
       "      <td>nan</td>\n",
       "      <td>nan</td>\n",
       "      <td>None</td>\n",
       "    </tr>\n",
       "  </tbody>\n",
       "</table>\n",
       "</div>"
      ],
      "text/plain": [
       "                             artist  duration  number    orig_ds  \\\n",
       "0                       james_brown       151     3.0  Billboard   \n",
       "1  roberta_flack_and_donny_hathaway       207     4.0  Billboard   \n",
       "2                      bette_midler       221     6.0  Billboard   \n",
       "3                        billy_joel       318    10.0  Billboard   \n",
       "4                        johnny_lee       212    12.0  Billboard   \n",
       "\n",
       "               orig_fname              title  id href status t_eps  \n",
       "0  0003\\salami_chords.txt        i_dont_mind   0  nan    nan  None  \n",
       "1  0004\\salami_chords.txt  youve_got__friend   1  nan    nan  None  \n",
       "2  0006\\salami_chords.txt               rose   2  nan    nan  None  \n",
       "3  0010\\salami_chords.txt       innocent_man   3  nan    nan  None  \n",
       "4  0012\\salami_chords.txt    lookin_for_love   4  nan    nan  None  "
      ]
     },
     "execution_count": 13,
     "metadata": {},
     "output_type": "execute_result"
    }
   ],
   "source": [
    "ds.head()"
   ]
  },
  {
   "cell_type": "raw",
   "metadata": {},
   "source": [
    "not_load = ds[ds['status']!='Downloaded'].append(ds[ds['t_eps']>max_eps])\n",
    "not_load.shape"
   ]
  },
  {
   "cell_type": "raw",
   "metadata": {
    "collapsed": true
   },
   "source": [
    "not_load = not_load[:1]"
   ]
  },
  {
   "cell_type": "raw",
   "metadata": {},
   "source": [
    "not_load"
   ]
  },
  {
   "cell_type": "raw",
   "metadata": {
    "collapsed": true
   },
   "source": [
    "verbose = True"
   ]
  },
  {
   "cell_type": "raw",
   "metadata": {
    "scrolled": false
   },
   "source": [
    "%%time\n",
    "#not_load = ds[ds['status']!='Downloaded']\n",
    "\n",
    "for row in tqdm_notebook(not_load.iterrows(), total=len(not_load)):\n",
    "    i,row = row\n",
    "#    print('-------------------------')\n",
    "#    print(i)\n",
    "    if i%5==0:\n",
    "        ds.to_csv(os.path.join(dnames['CSVS_DIR'], 'downloaded_songlist.csv'))\n",
    "    \n",
    "    try:\n",
    "        download_href, page_url, dur_eps = parse_ipleer(artist=row.artist, title=row.title, duration=row.duration, verbose=verbose)\n",
    "        download_file(artist=row.artist, title=row.title, number=row.number, href=download_href)\n",
    "        \n",
    "        ds.at[i,'status']='Downloaded'\n",
    "        ds.at[i,'href']=page_url\n",
    "        ds.at[i,'t_eps']=dur_eps\n",
    "    except Exception as e:\n",
    "        ds.at[i,'status']=e.args[0]\n",
    "        if len(e.args)==2:\n",
    "            ds.at[i,'href']=e.args[1]\n",
    "        #print(i, e.args[0])"
   ]
  },
  {
   "cell_type": "raw",
   "metadata": {
    "scrolled": true
   },
   "source": [
    "ds[:1]"
   ]
  },
  {
   "cell_type": "raw",
   "metadata": {
    "collapsed": true
   },
   "source": [
    "ds.to_csv(os.path.join(dnames['CSVS_DIR'], 'downloaded_songlist.csv'))"
   ]
  },
  {
   "cell_type": "raw",
   "metadata": {},
   "source": [
    "ds[ds['status']=='Downloaded']"
   ]
  },
  {
   "cell_type": "code",
   "execution_count": null,
   "metadata": {
    "collapsed": true
   },
   "outputs": [],
   "source": []
  },
  {
   "cell_type": "code",
   "execution_count": null,
   "metadata": {
    "collapsed": true
   },
   "outputs": [],
   "source": []
  },
  {
   "cell_type": "raw",
   "metadata": {},
   "source": [
    "del ds"
   ]
  },
  {
   "cell_type": "markdown",
   "metadata": {},
   "source": [
    "# Checking songs correctfullness"
   ]
  },
  {
   "cell_type": "code",
   "execution_count": 14,
   "metadata": {
    "collapsed": true
   },
   "outputs": [],
   "source": [
    "files_downld = find_files(dname=dnames['RAW_SONGS_DIR'], frmt='mp3')"
   ]
  },
  {
   "cell_type": "code",
   "execution_count": 15,
   "metadata": {},
   "outputs": [
    {
     "data": {
      "text/html": [
       "<div>\n",
       "<style>\n",
       "    .dataframe thead tr:only-child th {\n",
       "        text-align: right;\n",
       "    }\n",
       "\n",
       "    .dataframe thead th {\n",
       "        text-align: left;\n",
       "    }\n",
       "\n",
       "    .dataframe tbody tr th {\n",
       "        vertical-align: top;\n",
       "    }\n",
       "</style>\n",
       "<table border=\"1\" class=\"dataframe\">\n",
       "  <thead>\n",
       "    <tr style=\"text-align: right;\">\n",
       "      <th></th>\n",
       "      <th>artist</th>\n",
       "      <th>duration</th>\n",
       "      <th>number</th>\n",
       "      <th>orig_ds</th>\n",
       "      <th>orig_fname</th>\n",
       "      <th>title</th>\n",
       "      <th>id</th>\n",
       "      <th>href</th>\n",
       "      <th>status</th>\n",
       "      <th>t_eps</th>\n",
       "    </tr>\n",
       "  </thead>\n",
       "  <tbody>\n",
       "    <tr>\n",
       "      <th>0</th>\n",
       "      <td>james_brown</td>\n",
       "      <td>151</td>\n",
       "      <td>3.0</td>\n",
       "      <td>Billboard</td>\n",
       "      <td>0003\\salami_chords.txt</td>\n",
       "      <td>i_dont_mind</td>\n",
       "      <td>0</td>\n",
       "      <td>NaN</td>\n",
       "      <td>NaN</td>\n",
       "      <td>NaN</td>\n",
       "    </tr>\n",
       "    <tr>\n",
       "      <th>1</th>\n",
       "      <td>roberta_flack_and_donny_hathaway</td>\n",
       "      <td>207</td>\n",
       "      <td>4.0</td>\n",
       "      <td>Billboard</td>\n",
       "      <td>0004\\salami_chords.txt</td>\n",
       "      <td>youve_got__friend</td>\n",
       "      <td>1</td>\n",
       "      <td>NaN</td>\n",
       "      <td>NaN</td>\n",
       "      <td>NaN</td>\n",
       "    </tr>\n",
       "    <tr>\n",
       "      <th>2</th>\n",
       "      <td>bette_midler</td>\n",
       "      <td>221</td>\n",
       "      <td>6.0</td>\n",
       "      <td>Billboard</td>\n",
       "      <td>0006\\salami_chords.txt</td>\n",
       "      <td>rose</td>\n",
       "      <td>2</td>\n",
       "      <td>NaN</td>\n",
       "      <td>NaN</td>\n",
       "      <td>NaN</td>\n",
       "    </tr>\n",
       "    <tr>\n",
       "      <th>3</th>\n",
       "      <td>billy_joel</td>\n",
       "      <td>318</td>\n",
       "      <td>10.0</td>\n",
       "      <td>Billboard</td>\n",
       "      <td>0010\\salami_chords.txt</td>\n",
       "      <td>innocent_man</td>\n",
       "      <td>3</td>\n",
       "      <td>NaN</td>\n",
       "      <td>NaN</td>\n",
       "      <td>NaN</td>\n",
       "    </tr>\n",
       "    <tr>\n",
       "      <th>4</th>\n",
       "      <td>johnny_lee</td>\n",
       "      <td>212</td>\n",
       "      <td>12.0</td>\n",
       "      <td>Billboard</td>\n",
       "      <td>0012\\salami_chords.txt</td>\n",
       "      <td>lookin_for_love</td>\n",
       "      <td>4</td>\n",
       "      <td>NaN</td>\n",
       "      <td>NaN</td>\n",
       "      <td>NaN</td>\n",
       "    </tr>\n",
       "  </tbody>\n",
       "</table>\n",
       "</div>"
      ],
      "text/plain": [
       "                             artist  duration  number    orig_ds  \\\n",
       "0                       james_brown       151     3.0  Billboard   \n",
       "1  roberta_flack_and_donny_hathaway       207     4.0  Billboard   \n",
       "2                      bette_midler       221     6.0  Billboard   \n",
       "3                        billy_joel       318    10.0  Billboard   \n",
       "4                        johnny_lee       212    12.0  Billboard   \n",
       "\n",
       "               orig_fname              title  id  href  status  t_eps  \n",
       "0  0003\\salami_chords.txt        i_dont_mind   0   NaN     NaN    NaN  \n",
       "1  0004\\salami_chords.txt  youve_got__friend   1   NaN     NaN    NaN  \n",
       "2  0006\\salami_chords.txt               rose   2   NaN     NaN    NaN  \n",
       "3  0010\\salami_chords.txt       innocent_man   3   NaN     NaN    NaN  \n",
       "4  0012\\salami_chords.txt    lookin_for_love   4   NaN     NaN    NaN  "
      ]
     },
     "execution_count": 15,
     "metadata": {},
     "output_type": "execute_result"
    }
   ],
   "source": [
    "ds_downld = pd.read_csv(os.path.join(dnames['CSVS_DIR'], 'downloaded_songlist.csv'), index_col=0)\n",
    "ds_downld.head()"
   ]
  },
  {
   "cell_type": "markdown",
   "metadata": {},
   "source": [
    "## Подход к сверке файлов"
   ]
  },
  {
   "cell_type": "code",
   "execution_count": 16,
   "metadata": {
    "collapsed": true
   },
   "outputs": [],
   "source": [
    "import re"
   ]
  },
  {
   "cell_type": "code",
   "execution_count": 17,
   "metadata": {},
   "outputs": [
    {
     "data": {
      "text/html": [
       "<div>\n",
       "<style>\n",
       "    .dataframe thead tr:only-child th {\n",
       "        text-align: right;\n",
       "    }\n",
       "\n",
       "    .dataframe thead th {\n",
       "        text-align: left;\n",
       "    }\n",
       "\n",
       "    .dataframe tbody tr th {\n",
       "        vertical-align: top;\n",
       "    }\n",
       "</style>\n",
       "<table border=\"1\" class=\"dataframe\">\n",
       "  <thead>\n",
       "    <tr style=\"text-align: right;\">\n",
       "      <th></th>\n",
       "      <th>artist</th>\n",
       "      <th>duration</th>\n",
       "      <th>number</th>\n",
       "      <th>orig_ds</th>\n",
       "      <th>orig_fname</th>\n",
       "      <th>title</th>\n",
       "      <th>id</th>\n",
       "      <th>href</th>\n",
       "      <th>status</th>\n",
       "      <th>t_eps</th>\n",
       "    </tr>\n",
       "  </thead>\n",
       "  <tbody>\n",
       "    <tr>\n",
       "      <th>0</th>\n",
       "      <td>james_brown</td>\n",
       "      <td>151</td>\n",
       "      <td>3.0</td>\n",
       "      <td>Billboard</td>\n",
       "      <td>0003\\salami_chords.txt</td>\n",
       "      <td>i_dont_mind</td>\n",
       "      <td>0</td>\n",
       "      <td>NaN</td>\n",
       "      <td>NaN</td>\n",
       "      <td>NaN</td>\n",
       "    </tr>\n",
       "    <tr>\n",
       "      <th>1</th>\n",
       "      <td>roberta_flack_and_donny_hathaway</td>\n",
       "      <td>207</td>\n",
       "      <td>4.0</td>\n",
       "      <td>Billboard</td>\n",
       "      <td>0004\\salami_chords.txt</td>\n",
       "      <td>youve_got__friend</td>\n",
       "      <td>1</td>\n",
       "      <td>NaN</td>\n",
       "      <td>NaN</td>\n",
       "      <td>NaN</td>\n",
       "    </tr>\n",
       "    <tr>\n",
       "      <th>2</th>\n",
       "      <td>bette_midler</td>\n",
       "      <td>221</td>\n",
       "      <td>6.0</td>\n",
       "      <td>Billboard</td>\n",
       "      <td>0006\\salami_chords.txt</td>\n",
       "      <td>rose</td>\n",
       "      <td>2</td>\n",
       "      <td>NaN</td>\n",
       "      <td>NaN</td>\n",
       "      <td>NaN</td>\n",
       "    </tr>\n",
       "    <tr>\n",
       "      <th>3</th>\n",
       "      <td>billy_joel</td>\n",
       "      <td>318</td>\n",
       "      <td>10.0</td>\n",
       "      <td>Billboard</td>\n",
       "      <td>0010\\salami_chords.txt</td>\n",
       "      <td>innocent_man</td>\n",
       "      <td>3</td>\n",
       "      <td>NaN</td>\n",
       "      <td>NaN</td>\n",
       "      <td>NaN</td>\n",
       "    </tr>\n",
       "    <tr>\n",
       "      <th>4</th>\n",
       "      <td>johnny_lee</td>\n",
       "      <td>212</td>\n",
       "      <td>12.0</td>\n",
       "      <td>Billboard</td>\n",
       "      <td>0012\\salami_chords.txt</td>\n",
       "      <td>lookin_for_love</td>\n",
       "      <td>4</td>\n",
       "      <td>NaN</td>\n",
       "      <td>NaN</td>\n",
       "      <td>NaN</td>\n",
       "    </tr>\n",
       "  </tbody>\n",
       "</table>\n",
       "</div>"
      ],
      "text/plain": [
       "                             artist  duration  number    orig_ds  \\\n",
       "0                       james_brown       151     3.0  Billboard   \n",
       "1  roberta_flack_and_donny_hathaway       207     4.0  Billboard   \n",
       "2                      bette_midler       221     6.0  Billboard   \n",
       "3                        billy_joel       318    10.0  Billboard   \n",
       "4                        johnny_lee       212    12.0  Billboard   \n",
       "\n",
       "               orig_fname              title  id  href  status  t_eps  \n",
       "0  0003\\salami_chords.txt        i_dont_mind   0   NaN     NaN    NaN  \n",
       "1  0004\\salami_chords.txt  youve_got__friend   1   NaN     NaN    NaN  \n",
       "2  0006\\salami_chords.txt               rose   2   NaN     NaN    NaN  \n",
       "3  0010\\salami_chords.txt       innocent_man   3   NaN     NaN    NaN  \n",
       "4  0012\\salami_chords.txt    lookin_for_love   4   NaN     NaN    NaN  "
      ]
     },
     "execution_count": 17,
     "metadata": {},
     "output_type": "execute_result"
    }
   ],
   "source": [
    "ds_downld.head()"
   ]
  },
  {
   "cell_type": "code",
   "execution_count": 18,
   "metadata": {},
   "outputs": [
    {
     "data": {
      "application/vnd.jupyter.widget-view+json": {
       "model_id": "458ed83c60de42948a249159192b3c26",
       "version_major": 2,
       "version_minor": 0
      },
      "text/plain": [
       "A Jupyter Widget"
      ]
     },
     "metadata": {},
     "output_type": "display_data"
    },
    {
     "name": "stdout",
     "output_type": "stream",
     "text": [
      "\n"
     ]
    }
   ],
   "source": [
    "ds_downld['raw_song_fname'] = None\n",
    "matched_songs = pd.DataFrame()\n",
    "for fname in tqdm_notebook(files_downld):\n",
    "    formd_fname = format_name(fname)\n",
    "    #if any([ni in formd_fname for ni in not_include]):\n",
    "    #    print(fname)\n",
    "    #    continue\n",
    "    #print(formd_fname)\n",
    "    mpds = list(map(lambda row: (row[1]['artist'] in formd_fname) and row[1]['title'] in formd_fname.split('\\\\')[-1], ds_downld.iterrows()))\n",
    "    ds = ds_downld[mpds]\n",
    "    if ds.shape[0]>0:\n",
    "        # Иногда в ds попадают нескольско строк, т.к. row[title] - также часть другого названия.\n",
    "        # Правильный выбор - песня с наидлиннейшим названием \n",
    "        ds = ds.iloc[np.argmax(map(lambda x: len(x),list(ds['title'])))]\n",
    "        ds_downld.loc[ds['id'], 'raw_song_fname'] = fname[len(dnames['RAW_SONGS_DIR'])+1:]\n",
    "        matched_songs = matched_songs.append(ds_downld.loc[ds['id']])    "
   ]
  },
  {
   "cell_type": "markdown",
   "metadata": {},
   "source": [
    "# ПРОВЕРЯТЬ ДЛИТЕЛЬНОСТЬ ФАЙЛОВ В СКРИПТЕ ВЫШЕ"
   ]
  },
  {
   "cell_type": "code",
   "execution_count": 19,
   "metadata": {},
   "outputs": [
    {
     "name": "stderr",
     "output_type": "stream",
     "text": [
      "C:\\Users\\egord\\Anaconda3\\lib\\site-packages\\pydub\\utils.py:165: RuntimeWarning: Couldn't find ffmpeg or avconv - defaulting to ffmpeg, but may not work\n",
      "  warn(\"Couldn't find ffmpeg or avconv - defaulting to ffmpeg, but may not work\", RuntimeWarning)\n"
     ]
    }
   ],
   "source": [
    "from pydub import AudioSegment"
   ]
  },
  {
   "cell_type": "code",
   "execution_count": 20,
   "metadata": {
    "collapsed": true
   },
   "outputs": [],
   "source": [
    "song_fname = matched_songs.iloc[0]['raw_song_fname']"
   ]
  },
  {
   "cell_type": "code",
   "execution_count": 21,
   "metadata": {},
   "outputs": [
    {
     "data": {
      "text/plain": [
       "True"
      ]
     },
     "execution_count": 21,
     "metadata": {},
     "output_type": "execute_result"
    }
   ],
   "source": [
    "os.path.isfile(os.path.join(dnames['RAW_SONGS_DIR'], song_fname))"
   ]
  },
  {
   "cell_type": "code",
   "execution_count": 29,
   "metadata": {},
   "outputs": [
    {
     "data": {
      "text/plain": [
       "'..\\\\raw_songs\\\\Queen\\\\Queen  Greatest Hits 1 (2011 Remastered)\\\\01 Bohemian Rhapsody.mp3'"
      ]
     },
     "execution_count": 29,
     "metadata": {},
     "output_type": "execute_result"
    }
   ],
   "source": [
    "os.path.join(dnames['RAW_SONGS_DIR'], song_fname)"
   ]
  },
  {
   "cell_type": "code",
   "execution_count": 31,
   "metadata": {},
   "outputs": [
    {
     "data": {
      "text/plain": [
       "True"
      ]
     },
     "execution_count": 31,
     "metadata": {},
     "output_type": "execute_result"
    }
   ],
   "source": [
    "os.path.isfile(r'.\\\\01 Bohemian Rhapsody.mp3')"
   ]
  },
  {
   "cell_type": "code",
   "execution_count": 32,
   "metadata": {},
   "outputs": [
    {
     "name": "stderr",
     "output_type": "stream",
     "text": [
      "C:\\Users\\egord\\Anaconda3\\lib\\site-packages\\pydub\\utils.py:193: RuntimeWarning: Couldn't find ffprobe or avprobe - defaulting to ffprobe, but may not work\n",
      "  warn(\"Couldn't find ffprobe or avprobe - defaulting to ffprobe, but may not work\", RuntimeWarning)\n"
     ]
    },
    {
     "ename": "FileNotFoundError",
     "evalue": "[WinError 2] Не удается найти указанный файл",
     "output_type": "error",
     "traceback": [
      "\u001b[1;31m---------------------------------------------------------------------------\u001b[0m",
      "\u001b[1;31mFileNotFoundError\u001b[0m                         Traceback (most recent call last)",
      "\u001b[1;32m<ipython-input-32-3c3d7dc6bd52>\u001b[0m in \u001b[0;36m<module>\u001b[1;34m()\u001b[0m\n\u001b[1;32m----> 1\u001b[1;33m \u001b[0mAudioSegment\u001b[0m\u001b[1;33m.\u001b[0m\u001b[0mfrom_mp3\u001b[0m\u001b[1;33m(\u001b[0m\u001b[1;34m\"01 Bohemian Rhapsody.mp3\"\u001b[0m\u001b[1;33m)\u001b[0m\u001b[1;33m\u001b[0m\u001b[0m\n\u001b[0m",
      "\u001b[1;32m~\\Anaconda3\\lib\\site-packages\\pydub\\audio_segment.py\u001b[0m in \u001b[0;36mfrom_mp3\u001b[1;34m(cls, file, parameters)\u001b[0m\n\u001b[0;32m    714\u001b[0m     \u001b[1;33m@\u001b[0m\u001b[0mclassmethod\u001b[0m\u001b[1;33m\u001b[0m\u001b[0m\n\u001b[0;32m    715\u001b[0m     \u001b[1;32mdef\u001b[0m \u001b[0mfrom_mp3\u001b[0m\u001b[1;33m(\u001b[0m\u001b[0mcls\u001b[0m\u001b[1;33m,\u001b[0m \u001b[0mfile\u001b[0m\u001b[1;33m,\u001b[0m \u001b[0mparameters\u001b[0m\u001b[1;33m=\u001b[0m\u001b[1;32mNone\u001b[0m\u001b[1;33m)\u001b[0m\u001b[1;33m:\u001b[0m\u001b[1;33m\u001b[0m\u001b[0m\n\u001b[1;32m--> 716\u001b[1;33m         \u001b[1;32mreturn\u001b[0m \u001b[0mcls\u001b[0m\u001b[1;33m.\u001b[0m\u001b[0mfrom_file\u001b[0m\u001b[1;33m(\u001b[0m\u001b[0mfile\u001b[0m\u001b[1;33m,\u001b[0m \u001b[1;34m'mp3'\u001b[0m\u001b[1;33m,\u001b[0m \u001b[0mparameters\u001b[0m\u001b[1;33m)\u001b[0m\u001b[1;33m\u001b[0m\u001b[0m\n\u001b[0m\u001b[0;32m    717\u001b[0m \u001b[1;33m\u001b[0m\u001b[0m\n\u001b[0;32m    718\u001b[0m     \u001b[1;33m@\u001b[0m\u001b[0mclassmethod\u001b[0m\u001b[1;33m\u001b[0m\u001b[0m\n",
      "\u001b[1;32m~\\Anaconda3\\lib\\site-packages\\pydub\\audio_segment.py\u001b[0m in \u001b[0;36mfrom_file\u001b[1;34m(cls, file, format, codec, parameters, **kwargs)\u001b[0m\n\u001b[0;32m    663\u001b[0m             \u001b[0mstdin_data\u001b[0m \u001b[1;33m=\u001b[0m \u001b[0mfile\u001b[0m\u001b[1;33m.\u001b[0m\u001b[0mread\u001b[0m\u001b[1;33m(\u001b[0m\u001b[1;33m)\u001b[0m\u001b[1;33m\u001b[0m\u001b[0m\n\u001b[0;32m    664\u001b[0m \u001b[1;33m\u001b[0m\u001b[0m\n\u001b[1;32m--> 665\u001b[1;33m         \u001b[0minfo\u001b[0m \u001b[1;33m=\u001b[0m \u001b[0mmediainfo_json\u001b[0m\u001b[1;33m(\u001b[0m\u001b[0morig_file\u001b[0m\u001b[1;33m)\u001b[0m\u001b[1;33m\u001b[0m\u001b[0m\n\u001b[0m\u001b[0;32m    666\u001b[0m         \u001b[1;32mif\u001b[0m \u001b[0minfo\u001b[0m\u001b[1;33m:\u001b[0m\u001b[1;33m\u001b[0m\u001b[0m\n\u001b[0;32m    667\u001b[0m             audio_streams = [x for x in info['streams']\n",
      "\u001b[1;32m~\\Anaconda3\\lib\\site-packages\\pydub\\utils.py\u001b[0m in \u001b[0;36mmediainfo_json\u001b[1;34m(filepath)\u001b[0m\n\u001b[0;32m    261\u001b[0m \u001b[1;33m\u001b[0m\u001b[0m\n\u001b[0;32m    262\u001b[0m     \u001b[0mcommand\u001b[0m \u001b[1;33m=\u001b[0m \u001b[1;33m[\u001b[0m\u001b[0mprober\u001b[0m\u001b[1;33m,\u001b[0m \u001b[1;34m'-of'\u001b[0m\u001b[1;33m,\u001b[0m \u001b[1;34m'json'\u001b[0m\u001b[1;33m]\u001b[0m \u001b[1;33m+\u001b[0m \u001b[0mcommand_args\u001b[0m\u001b[1;33m\u001b[0m\u001b[0m\n\u001b[1;32m--> 263\u001b[1;33m     \u001b[0mres\u001b[0m \u001b[1;33m=\u001b[0m \u001b[0mPopen\u001b[0m\u001b[1;33m(\u001b[0m\u001b[0mcommand\u001b[0m\u001b[1;33m,\u001b[0m \u001b[0mstdin\u001b[0m\u001b[1;33m=\u001b[0m\u001b[0mstdin_parameter\u001b[0m\u001b[1;33m,\u001b[0m \u001b[0mstdout\u001b[0m\u001b[1;33m=\u001b[0m\u001b[0mPIPE\u001b[0m\u001b[1;33m,\u001b[0m \u001b[0mstderr\u001b[0m\u001b[1;33m=\u001b[0m\u001b[0mPIPE\u001b[0m\u001b[1;33m)\u001b[0m\u001b[1;33m\u001b[0m\u001b[0m\n\u001b[0m\u001b[0;32m    264\u001b[0m     \u001b[0moutput\u001b[0m\u001b[1;33m,\u001b[0m \u001b[0mstderr\u001b[0m \u001b[1;33m=\u001b[0m \u001b[0mres\u001b[0m\u001b[1;33m.\u001b[0m\u001b[0mcommunicate\u001b[0m\u001b[1;33m(\u001b[0m\u001b[0minput\u001b[0m\u001b[1;33m=\u001b[0m\u001b[0mstdin_data\u001b[0m\u001b[1;33m)\u001b[0m\u001b[1;33m\u001b[0m\u001b[0m\n\u001b[0;32m    265\u001b[0m     \u001b[0moutput\u001b[0m \u001b[1;33m=\u001b[0m \u001b[0moutput\u001b[0m\u001b[1;33m.\u001b[0m\u001b[0mdecode\u001b[0m\u001b[1;33m(\u001b[0m\u001b[1;34m\"utf-8\"\u001b[0m\u001b[1;33m,\u001b[0m \u001b[1;34m'ignore'\u001b[0m\u001b[1;33m)\u001b[0m\u001b[1;33m\u001b[0m\u001b[0m\n",
      "\u001b[1;32m~\\Anaconda3\\lib\\subprocess.py\u001b[0m in \u001b[0;36m__init__\u001b[1;34m(self, args, bufsize, executable, stdin, stdout, stderr, preexec_fn, close_fds, shell, cwd, env, universal_newlines, startupinfo, creationflags, restore_signals, start_new_session, pass_fds, encoding, errors)\u001b[0m\n\u001b[0;32m    707\u001b[0m                                 \u001b[0mc2pread\u001b[0m\u001b[1;33m,\u001b[0m \u001b[0mc2pwrite\u001b[0m\u001b[1;33m,\u001b[0m\u001b[1;33m\u001b[0m\u001b[0m\n\u001b[0;32m    708\u001b[0m                                 \u001b[0merrread\u001b[0m\u001b[1;33m,\u001b[0m \u001b[0merrwrite\u001b[0m\u001b[1;33m,\u001b[0m\u001b[1;33m\u001b[0m\u001b[0m\n\u001b[1;32m--> 709\u001b[1;33m                                 restore_signals, start_new_session)\n\u001b[0m\u001b[0;32m    710\u001b[0m         \u001b[1;32mexcept\u001b[0m\u001b[1;33m:\u001b[0m\u001b[1;33m\u001b[0m\u001b[0m\n\u001b[0;32m    711\u001b[0m             \u001b[1;31m# Cleanup if the child failed starting.\u001b[0m\u001b[1;33m\u001b[0m\u001b[1;33m\u001b[0m\u001b[0m\n",
      "\u001b[1;32m~\\Anaconda3\\lib\\subprocess.py\u001b[0m in \u001b[0;36m_execute_child\u001b[1;34m(self, args, executable, preexec_fn, close_fds, pass_fds, cwd, env, startupinfo, creationflags, shell, p2cread, p2cwrite, c2pread, c2pwrite, errread, errwrite, unused_restore_signals, unused_start_new_session)\u001b[0m\n\u001b[0;32m    995\u001b[0m                                          \u001b[0menv\u001b[0m\u001b[1;33m,\u001b[0m\u001b[1;33m\u001b[0m\u001b[0m\n\u001b[0;32m    996\u001b[0m                                          \u001b[0mos\u001b[0m\u001b[1;33m.\u001b[0m\u001b[0mfspath\u001b[0m\u001b[1;33m(\u001b[0m\u001b[0mcwd\u001b[0m\u001b[1;33m)\u001b[0m \u001b[1;32mif\u001b[0m \u001b[0mcwd\u001b[0m \u001b[1;32mis\u001b[0m \u001b[1;32mnot\u001b[0m \u001b[1;32mNone\u001b[0m \u001b[1;32melse\u001b[0m \u001b[1;32mNone\u001b[0m\u001b[1;33m,\u001b[0m\u001b[1;33m\u001b[0m\u001b[0m\n\u001b[1;32m--> 997\u001b[1;33m                                          startupinfo)\n\u001b[0m\u001b[0;32m    998\u001b[0m             \u001b[1;32mfinally\u001b[0m\u001b[1;33m:\u001b[0m\u001b[1;33m\u001b[0m\u001b[0m\n\u001b[0;32m    999\u001b[0m                 \u001b[1;31m# Child is launched. Close the parent's copy of those pipe\u001b[0m\u001b[1;33m\u001b[0m\u001b[1;33m\u001b[0m\u001b[0m\n",
      "\u001b[1;31mFileNotFoundError\u001b[0m: [WinError 2] Не удается найти указанный файл"
     ]
    }
   ],
   "source": [
    "AudioSegment.from_mp3(\"01 Bohemian Rhapsody.mp3\")"
   ]
  },
  {
   "cell_type": "code",
   "execution_count": 30,
   "metadata": {},
   "outputs": [
    {
     "name": "stderr",
     "output_type": "stream",
     "text": [
      "C:\\Users\\egord\\Anaconda3\\lib\\site-packages\\pydub\\utils.py:193: RuntimeWarning: Couldn't find ffprobe or avprobe - defaulting to ffprobe, but may not work\n",
      "  warn(\"Couldn't find ffprobe or avprobe - defaulting to ffprobe, but may not work\", RuntimeWarning)\n"
     ]
    },
    {
     "ename": "FileNotFoundError",
     "evalue": "[WinError 2] Не удается найти указанный файл",
     "output_type": "error",
     "traceback": [
      "\u001b[1;31m---------------------------------------------------------------------------\u001b[0m",
      "\u001b[1;31mFileNotFoundError\u001b[0m                         Traceback (most recent call last)",
      "\u001b[1;32m<ipython-input-30-4a11c052ed8c>\u001b[0m in \u001b[0;36m<module>\u001b[1;34m()\u001b[0m\n\u001b[1;32m----> 1\u001b[1;33m \u001b[0mAudioSegment\u001b[0m\u001b[1;33m.\u001b[0m\u001b[0mfrom_mp3\u001b[0m\u001b[1;33m(\u001b[0m\u001b[0mfile\u001b[0m\u001b[1;33m=\u001b[0m\u001b[1;34mr'..\\\\raw_songs\\\\Queen\\\\Queen  Greatest Hits 1 (2011 Remastered)\\\\01 Bohemian Rhapsody.mp3'\u001b[0m\u001b[1;33m)\u001b[0m\u001b[1;33m\u001b[0m\u001b[0m\n\u001b[0m",
      "\u001b[1;32m~\\Anaconda3\\lib\\site-packages\\pydub\\audio_segment.py\u001b[0m in \u001b[0;36mfrom_mp3\u001b[1;34m(cls, file, parameters)\u001b[0m\n\u001b[0;32m    714\u001b[0m     \u001b[1;33m@\u001b[0m\u001b[0mclassmethod\u001b[0m\u001b[1;33m\u001b[0m\u001b[0m\n\u001b[0;32m    715\u001b[0m     \u001b[1;32mdef\u001b[0m \u001b[0mfrom_mp3\u001b[0m\u001b[1;33m(\u001b[0m\u001b[0mcls\u001b[0m\u001b[1;33m,\u001b[0m \u001b[0mfile\u001b[0m\u001b[1;33m,\u001b[0m \u001b[0mparameters\u001b[0m\u001b[1;33m=\u001b[0m\u001b[1;32mNone\u001b[0m\u001b[1;33m)\u001b[0m\u001b[1;33m:\u001b[0m\u001b[1;33m\u001b[0m\u001b[0m\n\u001b[1;32m--> 716\u001b[1;33m         \u001b[1;32mreturn\u001b[0m \u001b[0mcls\u001b[0m\u001b[1;33m.\u001b[0m\u001b[0mfrom_file\u001b[0m\u001b[1;33m(\u001b[0m\u001b[0mfile\u001b[0m\u001b[1;33m,\u001b[0m \u001b[1;34m'mp3'\u001b[0m\u001b[1;33m,\u001b[0m \u001b[0mparameters\u001b[0m\u001b[1;33m)\u001b[0m\u001b[1;33m\u001b[0m\u001b[0m\n\u001b[0m\u001b[0;32m    717\u001b[0m \u001b[1;33m\u001b[0m\u001b[0m\n\u001b[0;32m    718\u001b[0m     \u001b[1;33m@\u001b[0m\u001b[0mclassmethod\u001b[0m\u001b[1;33m\u001b[0m\u001b[0m\n",
      "\u001b[1;32m~\\Anaconda3\\lib\\site-packages\\pydub\\audio_segment.py\u001b[0m in \u001b[0;36mfrom_file\u001b[1;34m(cls, file, format, codec, parameters, **kwargs)\u001b[0m\n\u001b[0;32m    663\u001b[0m             \u001b[0mstdin_data\u001b[0m \u001b[1;33m=\u001b[0m \u001b[0mfile\u001b[0m\u001b[1;33m.\u001b[0m\u001b[0mread\u001b[0m\u001b[1;33m(\u001b[0m\u001b[1;33m)\u001b[0m\u001b[1;33m\u001b[0m\u001b[0m\n\u001b[0;32m    664\u001b[0m \u001b[1;33m\u001b[0m\u001b[0m\n\u001b[1;32m--> 665\u001b[1;33m         \u001b[0minfo\u001b[0m \u001b[1;33m=\u001b[0m \u001b[0mmediainfo_json\u001b[0m\u001b[1;33m(\u001b[0m\u001b[0morig_file\u001b[0m\u001b[1;33m)\u001b[0m\u001b[1;33m\u001b[0m\u001b[0m\n\u001b[0m\u001b[0;32m    666\u001b[0m         \u001b[1;32mif\u001b[0m \u001b[0minfo\u001b[0m\u001b[1;33m:\u001b[0m\u001b[1;33m\u001b[0m\u001b[0m\n\u001b[0;32m    667\u001b[0m             audio_streams = [x for x in info['streams']\n",
      "\u001b[1;32m~\\Anaconda3\\lib\\site-packages\\pydub\\utils.py\u001b[0m in \u001b[0;36mmediainfo_json\u001b[1;34m(filepath)\u001b[0m\n\u001b[0;32m    261\u001b[0m \u001b[1;33m\u001b[0m\u001b[0m\n\u001b[0;32m    262\u001b[0m     \u001b[0mcommand\u001b[0m \u001b[1;33m=\u001b[0m \u001b[1;33m[\u001b[0m\u001b[0mprober\u001b[0m\u001b[1;33m,\u001b[0m \u001b[1;34m'-of'\u001b[0m\u001b[1;33m,\u001b[0m \u001b[1;34m'json'\u001b[0m\u001b[1;33m]\u001b[0m \u001b[1;33m+\u001b[0m \u001b[0mcommand_args\u001b[0m\u001b[1;33m\u001b[0m\u001b[0m\n\u001b[1;32m--> 263\u001b[1;33m     \u001b[0mres\u001b[0m \u001b[1;33m=\u001b[0m \u001b[0mPopen\u001b[0m\u001b[1;33m(\u001b[0m\u001b[0mcommand\u001b[0m\u001b[1;33m,\u001b[0m \u001b[0mstdin\u001b[0m\u001b[1;33m=\u001b[0m\u001b[0mstdin_parameter\u001b[0m\u001b[1;33m,\u001b[0m \u001b[0mstdout\u001b[0m\u001b[1;33m=\u001b[0m\u001b[0mPIPE\u001b[0m\u001b[1;33m,\u001b[0m \u001b[0mstderr\u001b[0m\u001b[1;33m=\u001b[0m\u001b[0mPIPE\u001b[0m\u001b[1;33m)\u001b[0m\u001b[1;33m\u001b[0m\u001b[0m\n\u001b[0m\u001b[0;32m    264\u001b[0m     \u001b[0moutput\u001b[0m\u001b[1;33m,\u001b[0m \u001b[0mstderr\u001b[0m \u001b[1;33m=\u001b[0m \u001b[0mres\u001b[0m\u001b[1;33m.\u001b[0m\u001b[0mcommunicate\u001b[0m\u001b[1;33m(\u001b[0m\u001b[0minput\u001b[0m\u001b[1;33m=\u001b[0m\u001b[0mstdin_data\u001b[0m\u001b[1;33m)\u001b[0m\u001b[1;33m\u001b[0m\u001b[0m\n\u001b[0;32m    265\u001b[0m     \u001b[0moutput\u001b[0m \u001b[1;33m=\u001b[0m \u001b[0moutput\u001b[0m\u001b[1;33m.\u001b[0m\u001b[0mdecode\u001b[0m\u001b[1;33m(\u001b[0m\u001b[1;34m\"utf-8\"\u001b[0m\u001b[1;33m,\u001b[0m \u001b[1;34m'ignore'\u001b[0m\u001b[1;33m)\u001b[0m\u001b[1;33m\u001b[0m\u001b[0m\n",
      "\u001b[1;32m~\\Anaconda3\\lib\\subprocess.py\u001b[0m in \u001b[0;36m__init__\u001b[1;34m(self, args, bufsize, executable, stdin, stdout, stderr, preexec_fn, close_fds, shell, cwd, env, universal_newlines, startupinfo, creationflags, restore_signals, start_new_session, pass_fds, encoding, errors)\u001b[0m\n\u001b[0;32m    707\u001b[0m                                 \u001b[0mc2pread\u001b[0m\u001b[1;33m,\u001b[0m \u001b[0mc2pwrite\u001b[0m\u001b[1;33m,\u001b[0m\u001b[1;33m\u001b[0m\u001b[0m\n\u001b[0;32m    708\u001b[0m                                 \u001b[0merrread\u001b[0m\u001b[1;33m,\u001b[0m \u001b[0merrwrite\u001b[0m\u001b[1;33m,\u001b[0m\u001b[1;33m\u001b[0m\u001b[0m\n\u001b[1;32m--> 709\u001b[1;33m                                 restore_signals, start_new_session)\n\u001b[0m\u001b[0;32m    710\u001b[0m         \u001b[1;32mexcept\u001b[0m\u001b[1;33m:\u001b[0m\u001b[1;33m\u001b[0m\u001b[0m\n\u001b[0;32m    711\u001b[0m             \u001b[1;31m# Cleanup if the child failed starting.\u001b[0m\u001b[1;33m\u001b[0m\u001b[1;33m\u001b[0m\u001b[0m\n",
      "\u001b[1;32m~\\Anaconda3\\lib\\subprocess.py\u001b[0m in \u001b[0;36m_execute_child\u001b[1;34m(self, args, executable, preexec_fn, close_fds, pass_fds, cwd, env, startupinfo, creationflags, shell, p2cread, p2cwrite, c2pread, c2pwrite, errread, errwrite, unused_restore_signals, unused_start_new_session)\u001b[0m\n\u001b[0;32m    995\u001b[0m                                          \u001b[0menv\u001b[0m\u001b[1;33m,\u001b[0m\u001b[1;33m\u001b[0m\u001b[0m\n\u001b[0;32m    996\u001b[0m                                          \u001b[0mos\u001b[0m\u001b[1;33m.\u001b[0m\u001b[0mfspath\u001b[0m\u001b[1;33m(\u001b[0m\u001b[0mcwd\u001b[0m\u001b[1;33m)\u001b[0m \u001b[1;32mif\u001b[0m \u001b[0mcwd\u001b[0m \u001b[1;32mis\u001b[0m \u001b[1;32mnot\u001b[0m \u001b[1;32mNone\u001b[0m \u001b[1;32melse\u001b[0m \u001b[1;32mNone\u001b[0m\u001b[1;33m,\u001b[0m\u001b[1;33m\u001b[0m\u001b[0m\n\u001b[1;32m--> 997\u001b[1;33m                                          startupinfo)\n\u001b[0m\u001b[0;32m    998\u001b[0m             \u001b[1;32mfinally\u001b[0m\u001b[1;33m:\u001b[0m\u001b[1;33m\u001b[0m\u001b[0m\n\u001b[0;32m    999\u001b[0m                 \u001b[1;31m# Child is launched. Close the parent's copy of those pipe\u001b[0m\u001b[1;33m\u001b[0m\u001b[1;33m\u001b[0m\u001b[0m\n",
      "\u001b[1;31mFileNotFoundError\u001b[0m: [WinError 2] Не удается найти указанный файл"
     ]
    }
   ],
   "source": [
    "AudioSegment.from_mp3(file=r'..\\\\raw_songs\\\\Queen\\\\Queen  Greatest Hits 1 (2011 Remastered)\\\\01 Bohemian Rhapsody.mp3')"
   ]
  }
 ],
 "metadata": {
  "kernelspec": {
   "display_name": "Python 3",
   "language": "python",
   "name": "python3"
  },
  "language_info": {
   "codemirror_mode": {
    "name": "ipython",
    "version": 3
   },
   "file_extension": ".py",
   "mimetype": "text/x-python",
   "name": "python",
   "nbconvert_exporter": "python",
   "pygments_lexer": "ipython3",
   "version": "3.6.3"
  }
 },
 "nbformat": 4,
 "nbformat_minor": 2
}
