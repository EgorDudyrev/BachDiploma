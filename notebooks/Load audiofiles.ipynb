{
 "cells": [
  {
   "cell_type": "code",
   "execution_count": 1,
   "metadata": {},
   "outputs": [],
   "source": [
    "import platform\n",
    "assert platform.python_version()[0]=='2', 'This should work only by python 2'"
   ]
  },
  {
   "cell_type": "markdown",
   "metadata": {},
   "source": [
    "# Описание ноутбука\n",
    "Парсинг сайтов и скачивание mp3 аудиофайлов с интернета"
   ]
  },
  {
   "cell_type": "code",
   "execution_count": 2,
   "metadata": {},
   "outputs": [],
   "source": [
    "import os\n",
    "import pandas as pd\n",
    "import numpy as np\n",
    "import requests\n",
    "from bs4 import BeautifulSoup\n",
    "from tqdm import tqdm_notebook"
   ]
  },
  {
   "cell_type": "code",
   "execution_count": 3,
   "metadata": {},
   "outputs": [],
   "source": [
    "from chord_rec_lib import format_name, find_files"
   ]
  },
  {
   "cell_type": "code",
   "execution_count": 4,
   "metadata": {},
   "outputs": [],
   "source": [
    "import importlib"
   ]
  },
  {
   "cell_type": "code",
   "execution_count": 5,
   "metadata": {},
   "outputs": [],
   "source": [
    "from chord_rec_lib import dnames\n",
    "\n",
    "dnames['RAW_SONGS_DIR'] = 'raw_songs'\n",
    "\n",
    "HEAD_DIR = '..'\n",
    "for d in dnames:\n",
    "    dnames[d] = os.path.join(HEAD_DIR, dnames[d])"
   ]
  },
  {
   "cell_type": "code",
   "execution_count": 6,
   "metadata": {},
   "outputs": [],
   "source": [
    "not_include = ['cover', 'remix', 'live', 'mix'] # Запрещённые слова для названий песен todo: 'Live'?\n",
    "max_eps = 3 # Максимальное отклонение от заданной длины дорожки (в секундах)"
   ]
  },
  {
   "cell_type": "code",
   "execution_count": 7,
   "metadata": {},
   "outputs": [],
   "source": [
    "def secs_to_string(secs):\n",
    "    m = str(secs//60)\n",
    "    if len(m)==1:\n",
    "        m = '0'+m\n",
    "    s = str(secs%60)\n",
    "    if len(s)==1:\n",
    "        s = '0'+s\n",
    "    return ':'.join([m,s])"
   ]
  },
  {
   "cell_type": "code",
   "execution_count": 8,
   "metadata": {},
   "outputs": [],
   "source": [
    "def string_to_secs(string):\n",
    "    m,s = map(int,string.split(':'))\n",
    "    return m*60+s"
   ]
  },
  {
   "cell_type": "code",
   "execution_count": 9,
   "metadata": {},
   "outputs": [],
   "source": [
    "def parse_duration(track_html, verbose=False):\n",
    "    if verbose: print('parsing_duration')\n",
    "    d = track_html.find('em')\n",
    "    while True:\n",
    "        try:\n",
    "            d.div.decompose()\n",
    "        except:\n",
    "            break\n",
    "    if verbose: print('parsing_duration point1')\n",
    "    while True:\n",
    "        try:\n",
    "            d.a.decompose()\n",
    "        except:\n",
    "            break\n",
    "    if verbose: print('parsing_duration point2')\n",
    "    return d.text.split()[0]"
   ]
  },
  {
   "cell_type": "code",
   "execution_count": 10,
   "metadata": {},
   "outputs": [],
   "source": [
    "def download_file(id, href):\n",
    "    fname = os.path.join(dnames['RAW_SONGS_DIR'], '{}.mp3'.format(id))\n",
    "    try:\n",
    "        !wget -q -nc -t 1 -O {fname} '{href}'\n",
    "    except:\n",
    "        raise Exception('Found but not downloaded')"
   ]
  },
  {
   "cell_type": "code",
   "execution_count": null,
   "metadata": {},
   "outputs": [],
   "source": []
  },
  {
   "cell_type": "code",
   "execution_count": 11,
   "metadata": {},
   "outputs": [],
   "source": [
    "def parse_ipleer(artist, title, duration, verbose=False):\n",
    "    artist, title = artist.lower(), title.lower()\n",
    "    \n",
    "    SEARCH_URL = 'https://ipleer.fm/search/q/'\n",
    "    SONGS_URL = 'https://ipleer.fm'\n",
    "    \n",
    "    url = SEARCH_URL+format_name('{}+{}/'.format(artist, title), space_replacer='+')\n",
    "    list_page = requests.get(url=url)\n",
    "    \n",
    "    if list_page.status_code != 200:\n",
    "        raise Exception('List_page_not_found')\n",
    "    \n",
    "    list_soup = BeautifulSoup(list_page.text, 'html.parser')\n",
    "    tracks = list_soup.find_all('li',class_='track')\n",
    "    ntracks = []\n",
    "    for track_id,track in enumerate(tracks):\n",
    "        try:\n",
    "            a = format_name(track.find('span',class_='cartist').text, space_replacer=' ')\n",
    "            t = format_name(track.find('span',class_='ctitle').text, space_replacer=' ')\n",
    "            d = parse_duration(track)\n",
    "            h = track.find('a',class_='playlist-down').get('href')\n",
    "        except:\n",
    "            a,t,d, h = None, None, None, None\n",
    "        if a and t and d and h:\n",
    "            a_t = '{a} {t}'.format(a=a, t=t)\n",
    "            if any(map(lambda x: x in a_t.split(), not_include)):\n",
    "                if verbose:\n",
    "                    print('checking 1')\n",
    "                    print(a_t)\n",
    "                    print(artist, title)\n",
    "                continue\n",
    "            # Если кавер или ремикс (автор и название могут быть перепутаны местами)\n",
    "            #if len(list(filter(lambda x: x in t.lower(), not_include)))>0\\\n",
    "            # or len(list(filter(lambda x: x in a.lower(), not_include)))>0:\n",
    "            #    continue\n",
    "            # Если автор не совпадает с заданным (автор и название могут быть перепутаны местами)\n",
    "            if not all(map(lambda x: x in a_t.split(), title.split('_'))) \\\n",
    "                or not all(map(lambda x: x in a_t.split(), artist.split('_'))):\n",
    "                if verbose:\n",
    "                    print('checking 2')\n",
    "                    print('a t:', a_t, a_t.split())\n",
    "                    print(artist.split('_'), title.split('_'))\n",
    "    #            print('1.0)', list(map(lambda x: x in a_t.split(),  title.split())))\n",
    "    #            print('1.5)', all(map(lambda x: x in a_t.split(),  title.split())))\n",
    "    #            print('2.0)', list(map(lambda x: x in a_t.split(), artist.split())))\n",
    "    #            print('2.5)', all(map(lambda x: x in a_t.split(), artist.split())))\n",
    "    #            print(title.split())\n",
    "                continue\n",
    "            #if len(list(filter(lambda x: x in a, artist.split()))) != len(artist.split())\\\n",
    "            # and len(list(filter(lambda x: x in t, artist.split()))) != len(artist.split()):\n",
    "            #    continue\n",
    "            # Если название не совпадает с заданным (автор и название могут быть перепутаны местами)\n",
    "            #if len(list(filter(lambda x: x in t, title.split()))) != len(title.split())\\\n",
    "            # and len(list(filter(lambda x: x in a, title.split()))) != len(title.split()):\n",
    "            #    continue\n",
    "            try:\n",
    "                d = abs(string_to_secs(d)-string_to_secs(duration))\n",
    "            except:\n",
    "                continue\n",
    "            if d > max_eps:\n",
    "                continue\n",
    "           \n",
    "            ntracks.append({'artist':a, 'title':t, 'time_delta':d, 'href':h, 'track':track})\n",
    "    \n",
    "    if len(ntracks)==0:\n",
    "        raise Exception('No_correct_songs_found',url)\n",
    "    \n",
    "    ntracks = sorted(ntracks, key= lambda x: x['time_delta'])\n",
    "    \n",
    "    dur_eps = 0\n",
    "    for track in ntracks:\n",
    "        download_page = requests.get(SONGS_URL+track['href'])\n",
    "        if download_page.status_code == 200:\n",
    "            dur_eps = track['time_delta']\n",
    "            break\n",
    "    if download_page.status_code != 200:\n",
    "        raise Exception('Download_page_not_found')\n",
    "        \n",
    "    download_soup = BeautifulSoup(download_page.text, 'html.parser')\n",
    "    download_href = download_soup.find('a',class_='onesongblock-download').get('href')\n",
    "    \n",
    "    return download_href, download_page.url, dur_eps"
   ]
  },
  {
   "cell_type": "code",
   "execution_count": 12,
   "metadata": {},
   "outputs": [],
   "source": [
    "ds = pd.read_csv(os.path.join(dnames['CSVS_DIR'], 'united_ds_songlist.csv'), index_col=0)\n",
    "ds['href']='nan'\n",
    "ds['status']='nan'\n",
    "ds['t_eps']=None"
   ]
  },
  {
   "cell_type": "code",
   "execution_count": 13,
   "metadata": {},
   "outputs": [],
   "source": [
    "ds.to_csv(os.path.join(dnames['CSVS_DIR'], 'downloaded_songlist.csv'))"
   ]
  },
  {
   "cell_type": "code",
   "execution_count": 14,
   "metadata": {},
   "outputs": [
    {
     "data": {
      "text/html": [
       "<div>\n",
       "<style scoped>\n",
       "    .dataframe tbody tr th:only-of-type {\n",
       "        vertical-align: middle;\n",
       "    }\n",
       "\n",
       "    .dataframe tbody tr th {\n",
       "        vertical-align: top;\n",
       "    }\n",
       "\n",
       "    .dataframe thead th {\n",
       "        text-align: right;\n",
       "    }\n",
       "</style>\n",
       "<table border=\"1\" class=\"dataframe\">\n",
       "  <thead>\n",
       "    <tr style=\"text-align: right;\">\n",
       "      <th></th>\n",
       "      <th>artist</th>\n",
       "      <th>duration</th>\n",
       "      <th>number</th>\n",
       "      <th>orig_ds</th>\n",
       "      <th>orig_fname</th>\n",
       "      <th>title</th>\n",
       "      <th>id</th>\n",
       "      <th>href</th>\n",
       "      <th>status</th>\n",
       "      <th>t_eps</th>\n",
       "    </tr>\n",
       "  </thead>\n",
       "  <tbody>\n",
       "    <tr>\n",
       "      <th>0</th>\n",
       "      <td>james_brown</td>\n",
       "      <td>151</td>\n",
       "      <td>3.0</td>\n",
       "      <td>Billboard</td>\n",
       "      <td>0003\\salami_chords.txt</td>\n",
       "      <td>i_dont_mind</td>\n",
       "      <td>0</td>\n",
       "      <td>nan</td>\n",
       "      <td>nan</td>\n",
       "      <td>None</td>\n",
       "    </tr>\n",
       "    <tr>\n",
       "      <th>1</th>\n",
       "      <td>roberta_flack_and_donny_hathaway</td>\n",
       "      <td>207</td>\n",
       "      <td>4.0</td>\n",
       "      <td>Billboard</td>\n",
       "      <td>0004\\salami_chords.txt</td>\n",
       "      <td>youve_got__friend</td>\n",
       "      <td>1</td>\n",
       "      <td>nan</td>\n",
       "      <td>nan</td>\n",
       "      <td>None</td>\n",
       "    </tr>\n",
       "    <tr>\n",
       "      <th>2</th>\n",
       "      <td>bette_midler</td>\n",
       "      <td>221</td>\n",
       "      <td>6.0</td>\n",
       "      <td>Billboard</td>\n",
       "      <td>0006\\salami_chords.txt</td>\n",
       "      <td>rose</td>\n",
       "      <td>2</td>\n",
       "      <td>nan</td>\n",
       "      <td>nan</td>\n",
       "      <td>None</td>\n",
       "    </tr>\n",
       "    <tr>\n",
       "      <th>3</th>\n",
       "      <td>billy_joel</td>\n",
       "      <td>318</td>\n",
       "      <td>10.0</td>\n",
       "      <td>Billboard</td>\n",
       "      <td>0010\\salami_chords.txt</td>\n",
       "      <td>innocent_man</td>\n",
       "      <td>3</td>\n",
       "      <td>nan</td>\n",
       "      <td>nan</td>\n",
       "      <td>None</td>\n",
       "    </tr>\n",
       "    <tr>\n",
       "      <th>4</th>\n",
       "      <td>johnny_lee</td>\n",
       "      <td>212</td>\n",
       "      <td>12.0</td>\n",
       "      <td>Billboard</td>\n",
       "      <td>0012\\salami_chords.txt</td>\n",
       "      <td>lookin_for_love</td>\n",
       "      <td>4</td>\n",
       "      <td>nan</td>\n",
       "      <td>nan</td>\n",
       "      <td>None</td>\n",
       "    </tr>\n",
       "  </tbody>\n",
       "</table>\n",
       "</div>"
      ],
      "text/plain": [
       "                             artist  duration  number    orig_ds  \\\n",
       "0                       james_brown       151     3.0  Billboard   \n",
       "1  roberta_flack_and_donny_hathaway       207     4.0  Billboard   \n",
       "2                      bette_midler       221     6.0  Billboard   \n",
       "3                        billy_joel       318    10.0  Billboard   \n",
       "4                        johnny_lee       212    12.0  Billboard   \n",
       "\n",
       "               orig_fname              title  id href status t_eps  \n",
       "0  0003\\salami_chords.txt        i_dont_mind   0  nan    nan  None  \n",
       "1  0004\\salami_chords.txt  youve_got__friend   1  nan    nan  None  \n",
       "2  0006\\salami_chords.txt               rose   2  nan    nan  None  \n",
       "3  0010\\salami_chords.txt       innocent_man   3  nan    nan  None  \n",
       "4  0012\\salami_chords.txt    lookin_for_love   4  nan    nan  None  "
      ]
     },
     "execution_count": 14,
     "metadata": {},
     "output_type": "execute_result"
    }
   ],
   "source": [
    "ds.head()"
   ]
  },
  {
   "cell_type": "raw",
   "metadata": {},
   "source": [
    "not_load = ds[ds['status']!='Downloaded'].append(ds[ds['t_eps']>max_eps])\n",
    "not_load.shape"
   ]
  },
  {
   "cell_type": "raw",
   "metadata": {
    "collapsed": true
   },
   "source": [
    "not_load = not_load[:1]"
   ]
  },
  {
   "cell_type": "raw",
   "metadata": {},
   "source": [
    "not_load"
   ]
  },
  {
   "cell_type": "raw",
   "metadata": {
    "collapsed": true
   },
   "source": [
    "verbose = True"
   ]
  },
  {
   "cell_type": "raw",
   "metadata": {
    "scrolled": false
   },
   "source": [
    "%%time\n",
    "#not_load = ds[ds['status']!='Downloaded']\n",
    "\n",
    "for row in tqdm_notebook(not_load.iterrows(), total=len(not_load)):\n",
    "    i,row = row\n",
    "#    print('-------------------------')\n",
    "#    print(i)\n",
    "    if i%5==0:\n",
    "        ds.to_csv(os.path.join(dnames['CSVS_DIR'], 'downloaded_songlist.csv'))\n",
    "    \n",
    "    try:\n",
    "        download_href, page_url, dur_eps = parse_ipleer(artist=row.artist, title=row.title, duration=row.duration, verbose=verbose)\n",
    "        download_file(artist=row.artist, title=row.title, number=row.number, href=download_href)\n",
    "        \n",
    "        ds.at[i,'status']='Downloaded'\n",
    "        ds.at[i,'href']=page_url\n",
    "        ds.at[i,'t_eps']=dur_eps\n",
    "    except Exception as e:\n",
    "        ds.at[i,'status']=e.args[0]\n",
    "        if len(e.args)==2:\n",
    "            ds.at[i,'href']=e.args[1]\n",
    "        #print(i, e.args[0])"
   ]
  },
  {
   "cell_type": "raw",
   "metadata": {
    "scrolled": true
   },
   "source": [
    "ds[:1]"
   ]
  },
  {
   "cell_type": "raw",
   "metadata": {
    "collapsed": true
   },
   "source": [
    "ds.to_csv(os.path.join(dnames['CSVS_DIR'], 'downloaded_songlist.csv'))"
   ]
  },
  {
   "cell_type": "raw",
   "metadata": {},
   "source": [
    "ds[ds['status']=='Downloaded']"
   ]
  },
  {
   "cell_type": "code",
   "execution_count": null,
   "metadata": {},
   "outputs": [],
   "source": []
  },
  {
   "cell_type": "code",
   "execution_count": null,
   "metadata": {},
   "outputs": [],
   "source": []
  },
  {
   "cell_type": "raw",
   "metadata": {},
   "source": [
    "del ds"
   ]
  },
  {
   "cell_type": "markdown",
   "metadata": {},
   "source": [
    "# Checking songs correctfullness"
   ]
  },
  {
   "cell_type": "code",
   "execution_count": 15,
   "metadata": {},
   "outputs": [],
   "source": [
    "files_downld = find_files(dname=dnames['RAW_SONGS_DIR'], frmt='mp3')"
   ]
  },
  {
   "cell_type": "code",
   "execution_count": 16,
   "metadata": {},
   "outputs": [
    {
     "data": {
      "text/html": [
       "<div>\n",
       "<style scoped>\n",
       "    .dataframe tbody tr th:only-of-type {\n",
       "        vertical-align: middle;\n",
       "    }\n",
       "\n",
       "    .dataframe tbody tr th {\n",
       "        vertical-align: top;\n",
       "    }\n",
       "\n",
       "    .dataframe thead th {\n",
       "        text-align: right;\n",
       "    }\n",
       "</style>\n",
       "<table border=\"1\" class=\"dataframe\">\n",
       "  <thead>\n",
       "    <tr style=\"text-align: right;\">\n",
       "      <th></th>\n",
       "      <th>artist</th>\n",
       "      <th>duration</th>\n",
       "      <th>number</th>\n",
       "      <th>orig_ds</th>\n",
       "      <th>orig_fname</th>\n",
       "      <th>title</th>\n",
       "      <th>id</th>\n",
       "      <th>href</th>\n",
       "      <th>status</th>\n",
       "      <th>t_eps</th>\n",
       "    </tr>\n",
       "  </thead>\n",
       "  <tbody>\n",
       "    <tr>\n",
       "      <th>0</th>\n",
       "      <td>james_brown</td>\n",
       "      <td>151</td>\n",
       "      <td>3.0</td>\n",
       "      <td>Billboard</td>\n",
       "      <td>0003\\salami_chords.txt</td>\n",
       "      <td>i_dont_mind</td>\n",
       "      <td>0</td>\n",
       "      <td>NaN</td>\n",
       "      <td>NaN</td>\n",
       "      <td>NaN</td>\n",
       "    </tr>\n",
       "    <tr>\n",
       "      <th>1</th>\n",
       "      <td>roberta_flack_and_donny_hathaway</td>\n",
       "      <td>207</td>\n",
       "      <td>4.0</td>\n",
       "      <td>Billboard</td>\n",
       "      <td>0004\\salami_chords.txt</td>\n",
       "      <td>youve_got__friend</td>\n",
       "      <td>1</td>\n",
       "      <td>NaN</td>\n",
       "      <td>NaN</td>\n",
       "      <td>NaN</td>\n",
       "    </tr>\n",
       "    <tr>\n",
       "      <th>2</th>\n",
       "      <td>bette_midler</td>\n",
       "      <td>221</td>\n",
       "      <td>6.0</td>\n",
       "      <td>Billboard</td>\n",
       "      <td>0006\\salami_chords.txt</td>\n",
       "      <td>rose</td>\n",
       "      <td>2</td>\n",
       "      <td>NaN</td>\n",
       "      <td>NaN</td>\n",
       "      <td>NaN</td>\n",
       "    </tr>\n",
       "    <tr>\n",
       "      <th>3</th>\n",
       "      <td>billy_joel</td>\n",
       "      <td>318</td>\n",
       "      <td>10.0</td>\n",
       "      <td>Billboard</td>\n",
       "      <td>0010\\salami_chords.txt</td>\n",
       "      <td>innocent_man</td>\n",
       "      <td>3</td>\n",
       "      <td>NaN</td>\n",
       "      <td>NaN</td>\n",
       "      <td>NaN</td>\n",
       "    </tr>\n",
       "    <tr>\n",
       "      <th>4</th>\n",
       "      <td>johnny_lee</td>\n",
       "      <td>212</td>\n",
       "      <td>12.0</td>\n",
       "      <td>Billboard</td>\n",
       "      <td>0012\\salami_chords.txt</td>\n",
       "      <td>lookin_for_love</td>\n",
       "      <td>4</td>\n",
       "      <td>NaN</td>\n",
       "      <td>NaN</td>\n",
       "      <td>NaN</td>\n",
       "    </tr>\n",
       "  </tbody>\n",
       "</table>\n",
       "</div>"
      ],
      "text/plain": [
       "                             artist  duration  number    orig_ds  \\\n",
       "0                       james_brown       151     3.0  Billboard   \n",
       "1  roberta_flack_and_donny_hathaway       207     4.0  Billboard   \n",
       "2                      bette_midler       221     6.0  Billboard   \n",
       "3                        billy_joel       318    10.0  Billboard   \n",
       "4                        johnny_lee       212    12.0  Billboard   \n",
       "\n",
       "               orig_fname              title  id  href  status  t_eps  \n",
       "0  0003\\salami_chords.txt        i_dont_mind   0   NaN     NaN    NaN  \n",
       "1  0004\\salami_chords.txt  youve_got__friend   1   NaN     NaN    NaN  \n",
       "2  0006\\salami_chords.txt               rose   2   NaN     NaN    NaN  \n",
       "3  0010\\salami_chords.txt       innocent_man   3   NaN     NaN    NaN  \n",
       "4  0012\\salami_chords.txt    lookin_for_love   4   NaN     NaN    NaN  "
      ]
     },
     "execution_count": 16,
     "metadata": {},
     "output_type": "execute_result"
    }
   ],
   "source": [
    "ds_downld = pd.read_csv(os.path.join(dnames['CSVS_DIR'], 'downloaded_songlist.csv'), index_col=0)\n",
    "ds_downld.head()"
   ]
  },
  {
   "cell_type": "markdown",
   "metadata": {},
   "source": [
    "## Подход к сверке файлов"
   ]
  },
  {
   "cell_type": "code",
   "execution_count": 17,
   "metadata": {},
   "outputs": [],
   "source": [
    "import re"
   ]
  },
  {
   "cell_type": "code",
   "execution_count": 18,
   "metadata": {},
   "outputs": [
    {
     "data": {
      "text/html": [
       "<div>\n",
       "<style scoped>\n",
       "    .dataframe tbody tr th:only-of-type {\n",
       "        vertical-align: middle;\n",
       "    }\n",
       "\n",
       "    .dataframe tbody tr th {\n",
       "        vertical-align: top;\n",
       "    }\n",
       "\n",
       "    .dataframe thead th {\n",
       "        text-align: right;\n",
       "    }\n",
       "</style>\n",
       "<table border=\"1\" class=\"dataframe\">\n",
       "  <thead>\n",
       "    <tr style=\"text-align: right;\">\n",
       "      <th></th>\n",
       "      <th>artist</th>\n",
       "      <th>duration</th>\n",
       "      <th>number</th>\n",
       "      <th>orig_ds</th>\n",
       "      <th>orig_fname</th>\n",
       "      <th>title</th>\n",
       "      <th>id</th>\n",
       "      <th>href</th>\n",
       "      <th>status</th>\n",
       "      <th>t_eps</th>\n",
       "    </tr>\n",
       "  </thead>\n",
       "  <tbody>\n",
       "    <tr>\n",
       "      <th>0</th>\n",
       "      <td>james_brown</td>\n",
       "      <td>151</td>\n",
       "      <td>3.0</td>\n",
       "      <td>Billboard</td>\n",
       "      <td>0003\\salami_chords.txt</td>\n",
       "      <td>i_dont_mind</td>\n",
       "      <td>0</td>\n",
       "      <td>NaN</td>\n",
       "      <td>NaN</td>\n",
       "      <td>NaN</td>\n",
       "    </tr>\n",
       "    <tr>\n",
       "      <th>1</th>\n",
       "      <td>roberta_flack_and_donny_hathaway</td>\n",
       "      <td>207</td>\n",
       "      <td>4.0</td>\n",
       "      <td>Billboard</td>\n",
       "      <td>0004\\salami_chords.txt</td>\n",
       "      <td>youve_got__friend</td>\n",
       "      <td>1</td>\n",
       "      <td>NaN</td>\n",
       "      <td>NaN</td>\n",
       "      <td>NaN</td>\n",
       "    </tr>\n",
       "    <tr>\n",
       "      <th>2</th>\n",
       "      <td>bette_midler</td>\n",
       "      <td>221</td>\n",
       "      <td>6.0</td>\n",
       "      <td>Billboard</td>\n",
       "      <td>0006\\salami_chords.txt</td>\n",
       "      <td>rose</td>\n",
       "      <td>2</td>\n",
       "      <td>NaN</td>\n",
       "      <td>NaN</td>\n",
       "      <td>NaN</td>\n",
       "    </tr>\n",
       "    <tr>\n",
       "      <th>3</th>\n",
       "      <td>billy_joel</td>\n",
       "      <td>318</td>\n",
       "      <td>10.0</td>\n",
       "      <td>Billboard</td>\n",
       "      <td>0010\\salami_chords.txt</td>\n",
       "      <td>innocent_man</td>\n",
       "      <td>3</td>\n",
       "      <td>NaN</td>\n",
       "      <td>NaN</td>\n",
       "      <td>NaN</td>\n",
       "    </tr>\n",
       "    <tr>\n",
       "      <th>4</th>\n",
       "      <td>johnny_lee</td>\n",
       "      <td>212</td>\n",
       "      <td>12.0</td>\n",
       "      <td>Billboard</td>\n",
       "      <td>0012\\salami_chords.txt</td>\n",
       "      <td>lookin_for_love</td>\n",
       "      <td>4</td>\n",
       "      <td>NaN</td>\n",
       "      <td>NaN</td>\n",
       "      <td>NaN</td>\n",
       "    </tr>\n",
       "  </tbody>\n",
       "</table>\n",
       "</div>"
      ],
      "text/plain": [
       "                             artist  duration  number    orig_ds  \\\n",
       "0                       james_brown       151     3.0  Billboard   \n",
       "1  roberta_flack_and_donny_hathaway       207     4.0  Billboard   \n",
       "2                      bette_midler       221     6.0  Billboard   \n",
       "3                        billy_joel       318    10.0  Billboard   \n",
       "4                        johnny_lee       212    12.0  Billboard   \n",
       "\n",
       "               orig_fname              title  id  href  status  t_eps  \n",
       "0  0003\\salami_chords.txt        i_dont_mind   0   NaN     NaN    NaN  \n",
       "1  0004\\salami_chords.txt  youve_got__friend   1   NaN     NaN    NaN  \n",
       "2  0006\\salami_chords.txt               rose   2   NaN     NaN    NaN  \n",
       "3  0010\\salami_chords.txt       innocent_man   3   NaN     NaN    NaN  \n",
       "4  0012\\salami_chords.txt    lookin_for_love   4   NaN     NaN    NaN  "
      ]
     },
     "execution_count": 18,
     "metadata": {},
     "output_type": "execute_result"
    }
   ],
   "source": [
    "ds_downld.head()"
   ]
  },
  {
   "cell_type": "markdown",
   "metadata": {},
   "source": [
    "Find downloaded files matching needed songs by artist and title"
   ]
  },
  {
   "cell_type": "code",
   "execution_count": 19,
   "metadata": {},
   "outputs": [
    {
     "data": {
      "application/vnd.jupyter.widget-view+json": {
       "model_id": "192b5deb2bde47eea1408a69b2b6fb78",
       "version_major": 2,
       "version_minor": 0
      },
      "text/plain": [
       "HBox(children=(IntProgress(value=0, max=244), HTML(value=u'')))"
      ]
     },
     "metadata": {},
     "output_type": "display_data"
    },
    {
     "name": "stdout",
     "output_type": "stream",
     "text": [
      "\n"
     ]
    }
   ],
   "source": [
    "ds_downld['raw_song_fname'] = None\n",
    "matched_songs = pd.DataFrame()\n",
    "for fname in tqdm_notebook(files_downld):\n",
    "    formd_fname = format_name(fname)\n",
    "    #if any([ni in formd_fname for ni in not_include]):\n",
    "    #    print(fname)\n",
    "    #    continue\n",
    "    #print(formd_fname)\n",
    "    mpds = list(map(lambda row: (row[1]['artist'] in formd_fname) and row[1]['title'] in formd_fname.split('\\\\')[-1], ds_downld.iterrows()))\n",
    "    ds = ds_downld[mpds]\n",
    "    if ds.shape[0]>0:\n",
    "        # Иногда в ds попадают нескольско строк, т.к. row[title] - также часть другого названия.\n",
    "        # Правильный выбор - песня с наидлиннейшим названием \n",
    "        ds = ds.iloc[np.argmax(map(lambda x: len(x),list(ds['title'])))]\n",
    "        ds_downld.loc[ds['id'], 'raw_song_fname'] = fname[len(dnames['RAW_SONGS_DIR'])+1:]\n",
    "        ds_downld.loc[ds['id'], 'status'] = 'Downloaded (not checked)'\n",
    "        matched_songs = matched_songs.append(ds_downld.loc[ds['id']])    "
   ]
  },
  {
   "cell_type": "markdown",
   "metadata": {},
   "source": [
    "Checking matched files by durations"
   ]
  },
  {
   "cell_type": "code",
   "execution_count": 20,
   "metadata": {},
   "outputs": [],
   "source": [
    "from pydub import AudioSegment"
   ]
  },
  {
   "cell_type": "code",
   "execution_count": 21,
   "metadata": {},
   "outputs": [
    {
     "data": {
      "application/vnd.jupyter.widget-view+json": {
       "model_id": "229b222d0fe54276bec653a4f22d533d",
       "version_major": 2,
       "version_minor": 0
      },
      "text/plain": [
       "HBox(children=(IntProgress(value=0, max=205), HTML(value=u'')))"
      ]
     },
     "metadata": {},
     "output_type": "display_data"
    },
    {
     "name": "stdout",
     "output_type": "stream",
     "text": [
      "\n"
     ]
    }
   ],
   "source": [
    "for row in tqdm_notebook(matched_songs.iterrows(), total=len(matched_songs)):\n",
    "    idx, row = row\n",
    "    mp3file = AudioSegment.from_mp3(os.path.join(dnames['RAW_SONGS_DIR'], row['raw_song_fname']))\n",
    "    t_eps = mp3file.duration_seconds-row['duration']\n",
    "    ds_downld.loc[idx,'t_eps'] = t_eps"
   ]
  },
  {
   "cell_type": "code",
   "execution_count": 22,
   "metadata": {},
   "outputs": [],
   "source": [
    "from chord_rec_lib import MAX_DUR_DELTA"
   ]
  },
  {
   "cell_type": "code",
   "execution_count": 23,
   "metadata": {},
   "outputs": [],
   "source": [
    "ds_downld.loc[[abs(eps)<MAX_DUR_DELTA for eps in ds_downld['t_eps']], 'status'] = 'Downloaded (correct)'"
   ]
  },
  {
   "cell_type": "code",
   "execution_count": 24,
   "metadata": {},
   "outputs": [],
   "source": [
    "ds_downld.to_csv(os.path.join(dnames['CSVS_DIR'], 'downloaded_songlist.csv'))"
   ]
  },
  {
   "cell_type": "markdown",
   "metadata": {},
   "source": [
    "# Converted truly downloaded files to wav"
   ]
  },
  {
   "cell_type": "code",
   "execution_count": 25,
   "metadata": {},
   "outputs": [],
   "source": [
    "dnames['WAV_SONGS_DIR'] = '../wav_songs'"
   ]
  },
  {
   "cell_type": "code",
   "execution_count": 26,
   "metadata": {},
   "outputs": [
    {
     "data": {
      "application/vnd.jupyter.widget-view+json": {
       "model_id": "6c5ca7958d064026b545051e948103ab",
       "version_major": 2,
       "version_minor": 0
      },
      "text/plain": [
       "HBox(children=(IntProgress(value=0, max=108), HTML(value=u'')))"
      ]
     },
     "metadata": {},
     "output_type": "display_data"
    },
    {
     "name": "stdout",
     "output_type": "stream",
     "text": [
      "\n"
     ]
    }
   ],
   "source": [
    "ds = ds_downld[ds_downld['status']=='Downloaded (correct)']\n",
    "for row in tqdm_notebook(ds.iterrows(), total=len(ds)):\n",
    "    idx, row = row\n",
    "    auds = AudioSegment.from_mp3(os.path.join(dnames['RAW_SONGS_DIR'], row['raw_song_fname']))\n",
    "    auds = auds.set_channels(1)\n",
    "    new_fname = 'song_{}.wav'.format(row['id'])\n",
    "    auds.export(out_f=os.path.join(dnames['WAV_SONGS_DIR'], new_fname), format='wav', bitrate='192k')"
   ]
  }
 ],
 "metadata": {
  "kernelspec": {
   "display_name": "Python 2",
   "language": "python",
   "name": "python2"
  },
  "language_info": {
   "codemirror_mode": {
    "name": "ipython",
    "version": 2
   },
   "file_extension": ".py",
   "mimetype": "text/x-python",
   "name": "python",
   "nbconvert_exporter": "python",
   "pygments_lexer": "ipython2",
   "version": "2.7.15"
  }
 },
 "nbformat": 4,
 "nbformat_minor": 2
}
