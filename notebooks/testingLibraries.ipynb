{
 "cells": [
  {
   "cell_type": "code",
   "execution_count": 4,
   "metadata": {},
   "outputs": [],
   "source": [
    "import numpy as np\n",
    "import pandas as pd\n",
    "import sklearn\n",
    "import ipykernel\n",
    "import scipy\n",
    "import tensorflow as tf\n",
    "import keras"
   ]
  },
  {
   "cell_type": "code",
   "execution_count": 7,
   "metadata": {},
   "outputs": [
    {
     "name": "stdout",
     "output_type": "stream",
     "text": [
      "numpy\t1.14.0\n",
      "pandas\t0.23.4\n",
      "scipy\t1.1.0\n",
      "sklearn\t0.20.0\n",
      "ipykernel\t4.10.0\n",
      "tensorflow\t1.5.0\n",
      "keras\t2.2.2\n"
     ]
    }
   ],
   "source": [
    "for lib in [np, pd, scipy, sklearn, ipykernel, tf, keras]:\n",
    "    print(lib.__name__, lib.__version__, sep='\\t')"
   ]
  }
 ],
 "metadata": {
  "kernelspec": {
   "display_name": "Python 3",
   "language": "python",
   "name": "python3"
  },
  "language_info": {
   "codemirror_mode": {
    "name": "ipython",
    "version": 3
   },
   "file_extension": ".py",
   "mimetype": "text/x-python",
   "name": "python",
   "nbconvert_exporter": "python",
   "pygments_lexer": "ipython3",
   "version": "3.6.6"
  }
 },
 "nbformat": 4,
 "nbformat_minor": 2
}
