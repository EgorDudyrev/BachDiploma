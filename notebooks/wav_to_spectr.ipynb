{
 "cells": [
  {
   "cell_type": "code",
   "execution_count": 1,
   "metadata": {},
   "outputs": [],
   "source": [
    "import os\n",
    "from sys import getsizeof\n",
    "\n",
    "import numpy as np\n",
    "import pandas as pd\n",
    "import stft\n",
    "import scipy\n",
    "from scipy import signal\n",
    "from scipy.io import wavfile\n",
    "from scipy.sparse import csc_matrix, csr_matrix\n",
    "import matplotlib.pyplot as plt"
   ]
  },
  {
   "cell_type": "code",
   "execution_count": 2,
   "metadata": {},
   "outputs": [],
   "source": [
    "from chord_rec_lib import dnames, format_name\n",
    "load_dnames_once_f = True"
   ]
  },
  {
   "cell_type": "code",
   "execution_count": 3,
   "metadata": {},
   "outputs": [],
   "source": [
    "HEAD_DIR = '..'\n",
    "if load_dnames_once_f:\n",
    "    for d in dnames:\n",
    "        dnames[d] = os.path.join(HEAD_DIR, dnames[d])\n",
    "    load_dnames_once_f = False"
   ]
  },
  {
   "cell_type": "markdown",
   "metadata": {},
   "source": [
    "# Checking algorithm for one song"
   ]
  },
  {
   "cell_type": "code",
   "execution_count": 89,
   "metadata": {},
   "outputs": [
    {
     "data": {
      "text/plain": [
       "'song_822.wav'"
      ]
     },
     "execution_count": 89,
     "metadata": {},
     "output_type": "execute_result"
    }
   ],
   "source": [
    "fname = os.listdir(os.path.join(dnames['WAV_SONGS_DIR']))[0]\n",
    "fname"
   ]
  },
  {
   "cell_type": "markdown",
   "metadata": {},
   "source": [
    "Following values set in honour of A.Cogliati papers"
   ]
  },
  {
   "cell_type": "code",
   "execution_count": 90,
   "metadata": {},
   "outputs": [],
   "source": [
    "flength = 2048\n",
    "wind = signal.hamming\n",
    "hopsize = 128"
   ]
  },
  {
   "cell_type": "markdown",
   "metadata": {},
   "source": [
    "stft.spectrogram(data, framelength=1024, hopsize=None, overlap=None, centered=True, window=None, halved=True, transform=None, padding=0, save_settings=True)\n",
    "\n",
    "spectrogramm.shape == bins x frames"
   ]
  },
  {
   "cell_type": "raw",
   "metadata": {},
   "source": [
    "sample_rate, samples = wavfile.read(os.path.join(dnames['WAV_SONGS_DIR'], fname))\n",
    "spectrogramm = stft.spectrogram(samples, framelength=flength, hopsize=hopsize, window=wind)\n",
    "spectrogramm = scipy.absolute(spectrogramm)\n",
    "spectrogramm.shape"
   ]
  },
  {
   "cell_type": "code",
   "execution_count": 91,
   "metadata": {},
   "outputs": [],
   "source": [
    "sample_rate, samples = wavfile.read(os.path.join(dnames['WAV_SONGS_DIR'], fname))\n",
    "fs, ts, Sxx = scipy.signal.spectrogram(samples, sample_rate)"
   ]
  },
  {
   "cell_type": "code",
   "execution_count": 92,
   "metadata": {},
   "outputs": [
    {
     "data": {
      "text/plain": [
       "(129, 25299)"
      ]
     },
     "execution_count": 92,
     "metadata": {},
     "output_type": "execute_result"
    }
   ],
   "source": [
    "Sxx.shape"
   ]
  },
  {
   "cell_type": "code",
   "execution_count": 93,
   "metadata": {},
   "outputs": [
    {
     "data": {
      "text/plain": [
       "(129,)"
      ]
     },
     "execution_count": 93,
     "metadata": {},
     "output_type": "execute_result"
    }
   ],
   "source": [
    "fs.shape"
   ]
  },
  {
   "cell_type": "code",
   "execution_count": 94,
   "metadata": {},
   "outputs": [
    {
     "data": {
      "text/plain": [
       "(129, 25299)"
      ]
     },
     "execution_count": 94,
     "metadata": {},
     "output_type": "execute_result"
    }
   ],
   "source": [
    "Sxx.shape"
   ]
  },
  {
   "cell_type": "code",
   "execution_count": 101,
   "metadata": {},
   "outputs": [
    {
     "data": {
      "image/png": "[encoded data removed]",
      "text/plain": [
       "<matplotlib.figure.Figure at 0x7fe0376035c0>"
      ]
     },
     "metadata": {
      "needs_background": "light"
     },
     "output_type": "display_data"
    }
   ],
   "source": [
    "plt.figure(figsize=(10, 5))\n",
    "plt.pcolormesh(ts, fs, Sxx, cmap='jet')\n",
    "plt.xlabel('Time [sec]')\n",
    "plt.ylabel('Frequency [Hz]')\n",
    "plt.show()"
   ]
  },
  {
   "cell_type": "raw",
   "metadata": {},
   "source": [
    "plt.figure(figsize=(15, 7.5))\n",
    "plt.imshow(Sxx, origin=\"lower\", cmap=\"jet\",aspect=\"auto\", interpolation=\"nearest\")\n",
    "#plt.xticks(ts,ts)\n",
    "\n",
    "plt.colorbar()\n",
    "plt.ylabel('Frequency [what is this metric]')\n",
    "plt.xlabel('Time [what is this metric]')\n",
    "plt.show()"
   ]
  },
  {
   "cell_type": "markdown",
   "metadata": {},
   "source": [
    "There are so much point with almost null value"
   ]
  },
  {
   "cell_type": "code",
   "execution_count": 103,
   "metadata": {},
   "outputs": [],
   "source": [
    "spectrogramm = Sxx"
   ]
  },
  {
   "cell_type": "code",
   "execution_count": 112,
   "metadata": {},
   "outputs": [],
   "source": [
    "xaxis = np.logspace(-2, np.log10(spectrogramm.size), 200)\n",
    "yaxis_counts = np.array([(spectrogramm<x).sum() for x in xaxis])\n",
    "yaxis_sums = np.array([spectrogramm[spectrogramm<x].sum() for x in xaxis])"
   ]
  },
  {
   "cell_type": "code",
   "execution_count": 113,
   "metadata": {},
   "outputs": [],
   "source": [
    "thold10 = xaxis[np.argmax(yaxis_sums/spectrogramm.sum()>=0.1)]\n",
    "thold20 = xaxis[np.argmax(yaxis_sums/spectrogramm.sum()>=0.2)]"
   ]
  },
  {
   "cell_type": "code",
   "execution_count": 114,
   "metadata": {},
   "outputs": [
    {
     "data": {
      "text/plain": [
       "(5405.533292711061, 14476.458132178219)"
      ]
     },
     "execution_count": 114,
     "metadata": {},
     "output_type": "execute_result"
    }
   ],
   "source": [
    "thold10, thold20"
   ]
  },
  {
   "cell_type": "code",
   "execution_count": 115,
   "metadata": {},
   "outputs": [
    {
     "data": {
      "image/png": "[encoded data removed]",
      "text/plain": [
       "<matplotlib.figure.Figure at 0x7fe03759fa20>"
      ]
     },
     "metadata": {
      "needs_background": "light"
     },
     "output_type": "display_data"
    }
   ],
   "source": [
    "plt.figure(figsize=(10,5))\n",
    "plt.suptitle('How much cells are less then threshold', fontsize=20)\n",
    "\n",
    "ax1 = plt.subplot(211)\n",
    "plt.plot(xaxis, yaxis_counts/spectrogramm.size)\n",
    "plt.ylabel('CumCount')\n",
    "plt.grid()\n",
    "plt.xticks(visible=False)\n",
    "plt.axvline(thold10)\n",
    "plt.axvline(thold20)\n",
    "\n",
    "ax2 = plt.subplot(212, sharex=ax1)\n",
    "plt.plot(xaxis, yaxis_sums/spectrogramm.sum())\n",
    "plt.grid()\n",
    "plt.xlabel('threshold')\n",
    "plt.ylabel('CumSum')\n",
    "plt.xscale('log')\n",
    "plt.axvline(thold10)\n",
    "plt.axvline(thold20)\n",
    "\n",
    "plt.show()"
   ]
  },
  {
   "cell_type": "code",
   "execution_count": 120,
   "metadata": {},
   "outputs": [],
   "source": [
    "sparse = spectrogramm.copy()\n",
    "sparse[sparse<thold20]=0\n",
    "sparse = csc_matrix(sparse)"
   ]
  },
  {
   "cell_type": "code",
   "execution_count": 121,
   "metadata": {},
   "outputs": [
    {
     "name": "stdout",
     "output_type": "stream",
     "text": [
      "full  : memorysize=112 sum=5490913280.00 perc=100.00%\n",
      "sparce: memorysize=56 sum=4329368576.00 perc=78.85%\n"
     ]
    }
   ],
   "source": [
    "print('full  : memorysize={} sum={:.2f} perc={:.2%}'.format(getsizeof(spectrogramm), spectrogramm.sum(), 1))\n",
    "print('sparce: memorysize={} sum={:.2f} perc={:.2%}'.format(getsizeof(sparse), sparse.sum(), sparse.sum()/spectrogramm.sum()))"
   ]
  },
  {
   "cell_type": "code",
   "execution_count": 122,
   "metadata": {},
   "outputs": [
    {
     "data": {
      "text/plain": [
       "<129x25299 sparse matrix of type '<class 'numpy.float32'>'\n",
       "\twith 81438 stored elements in Compressed Sparse Column format>"
      ]
     },
     "execution_count": 122,
     "metadata": {},
     "output_type": "execute_result"
    }
   ],
   "source": [
    "sparse"
   ]
  },
  {
   "cell_type": "code",
   "execution_count": 126,
   "metadata": {},
   "outputs": [
    {
     "data": {
      "text/plain": [
       "(129, 25299)"
      ]
     },
     "execution_count": 126,
     "metadata": {},
     "output_type": "execute_result"
    }
   ],
   "source": [
    "Sxx.shape"
   ]
  },
  {
   "cell_type": "markdown",
   "metadata": {},
   "source": [
    "dt = 0.005079 sec"
   ]
  },
  {
   "cell_type": "code",
   "execution_count": 132,
   "metadata": {},
   "outputs": [
    {
     "data": {
      "image/png": "[encoded data removed]",
      "text/plain": [
       "<matplotlib.figure.Figure at 0x7fe037246cf8>"
      ]
     },
     "metadata": {
      "needs_background": "light"
     },
     "output_type": "display_data"
    }
   ],
   "source": [
    "plt.figure(figsize=(15, 5))\n",
    "\n",
    "plt.subplot(121)\n",
    "plt.imshow(spectrogramm, origin=\"lower\", cmap=\"jet\",aspect=\"auto\", interpolation=\"nearest\")\n",
    "plt.colorbar()\n",
    "plt.title('dense')\n",
    "plt.ylabel('Frequency [what is this metric]')\n",
    "plt.xlabel('Time [what is this metric]')\n",
    "\n",
    "plt.subplot(122)\n",
    "plt.imshow(sparse.todense(), origin=\"lower\", cmap=\"jet\",aspect=\"auto\", interpolation=\"nearest\")\n",
    "plt.colorbar()\n",
    "plt.title('sparse')\n",
    "plt.ylabel('Frequency [what is this metric]')\n",
    "plt.xlabel('Time [what is this metric]')\n",
    "plt.show()"
   ]
  },
  {
   "cell_type": "code",
   "execution_count": 133,
   "metadata": {},
   "outputs": [],
   "source": [
    "scipy.sparse.save_npz(os.path.join(dnames['SPECTRS_DIR'], fname.replace('.wav','')),sparse)"
   ]
  },
  {
   "cell_type": "code",
   "execution_count": 134,
   "metadata": {},
   "outputs": [
    {
     "data": {
      "text/plain": [
       "14476.458132178219"
      ]
     },
     "execution_count": 134,
     "metadata": {},
     "output_type": "execute_result"
    }
   ],
   "source": [
    "thold20"
   ]
  },
  {
   "cell_type": "markdown",
   "metadata": {},
   "source": [
    "# Reply for all files"
   ]
  },
  {
   "cell_type": "code",
   "execution_count": 135,
   "metadata": {},
   "outputs": [],
   "source": [
    "thold20 = 10000"
   ]
  },
  {
   "cell_type": "code",
   "execution_count": 136,
   "metadata": {},
   "outputs": [],
   "source": [
    "flength = 2048\n",
    "wind = signal.hamming\n",
    "hopsize = 128"
   ]
  },
  {
   "cell_type": "code",
   "execution_count": 4,
   "metadata": {},
   "outputs": [
    {
     "data": {
      "text/plain": [
       "'song_822.wav'"
      ]
     },
     "execution_count": 4,
     "metadata": {},
     "output_type": "execute_result"
    }
   ],
   "source": [
    "fname = os.listdir(os.path.join(dnames['WAV_SONGS_DIR']))[0]"
   ]
  },
  {
   "cell_type": "code",
   "execution_count": 138,
   "metadata": {},
   "outputs": [],
   "source": [
    "from tqdm import tqdm_notebook"
   ]
  },
  {
   "cell_type": "code",
   "execution_count": null,
   "metadata": {},
   "outputs": [
    {
     "data": {
      "application/vnd.jupyter.widget-view+json": {
       "model_id": "a899878d31444431a434367ba8a1eb90",
       "version_major": 2,
       "version_minor": 0
      },
      "text/plain": [
       "HBox(children=(IntProgress(value=0, max=108), HTML(value='')))"
      ]
     },
     "metadata": {},
     "output_type": "display_data"
    }
   ],
   "source": [
    "for fname in tqdm_notebook(os.listdir(os.path.join(dnames['WAV_SONGS_DIR']))):\n",
    "    sample_rate, samples = wavfile.read(os.path.join(dnames['WAV_SONGS_DIR'], fname))\n",
    "    #spectrogramm = stft.spectrogram(samples, framelength=flength, hopsize=hopsize, window=wind)\n",
    "    #spectrogramm = scipy.absolute(spectrogramm)\n",
    "    fs, ts, spectrogramm = scipy.signal.spectrogram(samples, sample_rate)\n",
    "    sparse = spectrogramm.copy()\n",
    "    sparse[sparse<thold20]=0\n",
    "    sparse = csc_matrix(sparse)\n",
    "    scipy.sparse.save_npz(os.path.join(dnames['SPECTRS_DIR'], fname.replace('.wav','')),sparse)"
   ]
  }
 ],
 "metadata": {
  "kernelspec": {
   "display_name": "Python 3",
   "language": "python",
   "name": "python3"
  },
  "language_info": {
   "codemirror_mode": {
    "name": "ipython",
    "version": 3
   },
   "file_extension": ".py",
   "mimetype": "text/x-python",
   "name": "python",
   "nbconvert_exporter": "python",
   "pygments_lexer": "ipython3",
   "version": "3.6.6"
  }
 },
 "nbformat": 4,
 "nbformat_minor": 2
}
