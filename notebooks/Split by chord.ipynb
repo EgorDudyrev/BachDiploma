{
 "cells": [
  {
   "cell_type": "markdown",
   "metadata": {},
   "source": [
    "# Rename chord files"
   ]
  },
  {
   "cell_type": "code",
   "execution_count": 40,
   "metadata": {},
   "outputs": [],
   "source": [
    "import re\n",
    "import os\n",
    "from shutil import copy\n",
    "\n",
    "from tqdm import tqdm_notebook\n",
    "import numpy as np\n",
    "import pandas as pd\n",
    "import scipy\n",
    "from scipy import signal\n",
    "from scipy.io import wavfile\n",
    "from scipy.sparse import csc_matrix, csr_matrix\n",
    "from sklearn.metrics import mean_absolute_error\n",
    "\n",
    "import matplotlib.pyplot as plt\n"
   ]
  },
  {
   "cell_type": "code",
   "execution_count": 27,
   "metadata": {},
   "outputs": [],
   "source": [
    "from chord_rec_lib import delta_t #find_files, format_name"
   ]
  },
  {
   "cell_type": "code",
   "execution_count": 12,
   "metadata": {},
   "outputs": [],
   "source": [
    "from chord_rec_lib import dnames\n",
    "\n",
    "HEAD_DIR = '..'\n",
    "for d in dnames:\n",
    "    dnames[d] = os.path.join(HEAD_DIR, dnames[d])"
   ]
  },
  {
   "cell_type": "code",
   "execution_count": 18,
   "metadata": {},
   "outputs": [
    {
     "data": {
      "text/html": [
       "<div>\n",
       "<style scoped>\n",
       "    .dataframe tbody tr th:only-of-type {\n",
       "        vertical-align: middle;\n",
       "    }\n",
       "\n",
       "    .dataframe tbody tr th {\n",
       "        vertical-align: top;\n",
       "    }\n",
       "\n",
       "    .dataframe thead th {\n",
       "        text-align: right;\n",
       "    }\n",
       "</style>\n",
       "<table border=\"1\" class=\"dataframe\">\n",
       "  <thead>\n",
       "    <tr style=\"text-align: right;\">\n",
       "      <th></th>\n",
       "      <th>artist</th>\n",
       "      <th>duration</th>\n",
       "      <th>number</th>\n",
       "      <th>orig_ds</th>\n",
       "      <th>orig_fname</th>\n",
       "      <th>title</th>\n",
       "      <th>id</th>\n",
       "      <th>href</th>\n",
       "      <th>status</th>\n",
       "      <th>t_eps</th>\n",
       "      <th>raw_song_fname</th>\n",
       "    </tr>\n",
       "  </thead>\n",
       "  <tbody>\n",
       "    <tr>\n",
       "      <th>0</th>\n",
       "      <td>james_brown</td>\n",
       "      <td>151</td>\n",
       "      <td>3.0</td>\n",
       "      <td>Billboard</td>\n",
       "      <td>0003\\salami_chords.txt</td>\n",
       "      <td>i_dont_mind</td>\n",
       "      <td>0</td>\n",
       "      <td>NaN</td>\n",
       "      <td>NaN</td>\n",
       "      <td>NaN</td>\n",
       "      <td>NaN</td>\n",
       "    </tr>\n",
       "    <tr>\n",
       "      <th>1</th>\n",
       "      <td>roberta_flack_and_donny_hathaway</td>\n",
       "      <td>207</td>\n",
       "      <td>4.0</td>\n",
       "      <td>Billboard</td>\n",
       "      <td>0004\\salami_chords.txt</td>\n",
       "      <td>youve_got__friend</td>\n",
       "      <td>1</td>\n",
       "      <td>NaN</td>\n",
       "      <td>NaN</td>\n",
       "      <td>NaN</td>\n",
       "      <td>NaN</td>\n",
       "    </tr>\n",
       "    <tr>\n",
       "      <th>2</th>\n",
       "      <td>bette_midler</td>\n",
       "      <td>221</td>\n",
       "      <td>6.0</td>\n",
       "      <td>Billboard</td>\n",
       "      <td>0006\\salami_chords.txt</td>\n",
       "      <td>rose</td>\n",
       "      <td>2</td>\n",
       "      <td>NaN</td>\n",
       "      <td>NaN</td>\n",
       "      <td>NaN</td>\n",
       "      <td>NaN</td>\n",
       "    </tr>\n",
       "    <tr>\n",
       "      <th>3</th>\n",
       "      <td>billy_joel</td>\n",
       "      <td>318</td>\n",
       "      <td>10.0</td>\n",
       "      <td>Billboard</td>\n",
       "      <td>0010\\salami_chords.txt</td>\n",
       "      <td>innocent_man</td>\n",
       "      <td>3</td>\n",
       "      <td>NaN</td>\n",
       "      <td>NaN</td>\n",
       "      <td>NaN</td>\n",
       "      <td>NaN</td>\n",
       "    </tr>\n",
       "    <tr>\n",
       "      <th>4</th>\n",
       "      <td>johnny_lee</td>\n",
       "      <td>212</td>\n",
       "      <td>12.0</td>\n",
       "      <td>Billboard</td>\n",
       "      <td>0012\\salami_chords.txt</td>\n",
       "      <td>lookin_for_love</td>\n",
       "      <td>4</td>\n",
       "      <td>NaN</td>\n",
       "      <td>NaN</td>\n",
       "      <td>NaN</td>\n",
       "      <td>NaN</td>\n",
       "    </tr>\n",
       "  </tbody>\n",
       "</table>\n",
       "</div>"
      ],
      "text/plain": [
       "                             artist  duration  number    orig_ds  \\\n",
       "0                       james_brown       151     3.0  Billboard   \n",
       "1  roberta_flack_and_donny_hathaway       207     4.0  Billboard   \n",
       "2                      bette_midler       221     6.0  Billboard   \n",
       "3                        billy_joel       318    10.0  Billboard   \n",
       "4                        johnny_lee       212    12.0  Billboard   \n",
       "\n",
       "               orig_fname              title  id  href status  t_eps  \\\n",
       "0  0003\\salami_chords.txt        i_dont_mind   0   NaN    NaN    NaN   \n",
       "1  0004\\salami_chords.txt  youve_got__friend   1   NaN    NaN    NaN   \n",
       "2  0006\\salami_chords.txt               rose   2   NaN    NaN    NaN   \n",
       "3  0010\\salami_chords.txt       innocent_man   3   NaN    NaN    NaN   \n",
       "4  0012\\salami_chords.txt    lookin_for_love   4   NaN    NaN    NaN   \n",
       "\n",
       "  raw_song_fname  \n",
       "0            NaN  \n",
       "1            NaN  \n",
       "2            NaN  \n",
       "3            NaN  \n",
       "4            NaN  "
      ]
     },
     "execution_count": 18,
     "metadata": {},
     "output_type": "execute_result"
    }
   ],
   "source": [
    "ds_downld = pd.read_csv(os.path.join(dnames['CSVS_DIR'], 'downloaded_songlist.csv'), index_col=0)\n",
    "ds_downld.head()"
   ]
  },
  {
   "cell_type": "code",
   "execution_count": null,
   "metadata": {},
   "outputs": [],
   "source": [
    "for wav_fname in tqdm_notebook(os.listdir(dnames['WAV_SONGS_DIR'])):\n",
    "    num = int(re.findall(r'\\d+',wav_fname)[0])\n",
    "    orig_ds = ds_downld.loc[num, 'orig_ds']\n",
    "    orig_fname = ds_downld.loc[num,'orig_fname']\n",
    "    new_fname = 'song_{}.lab'.format(num)\n",
    "\n",
    "    if orig_ds == 'Billboard':\n",
    "        songs_fname = orig_fname.replace('salami_chords.txt', 'full.lab').replace('\\\\','/')\n",
    "        dname_key = 'BB_PARS_DS_DIR'\n",
    "    elif orig_ds =='chordlib':\n",
    "        songs_fname = orig_fname.replace('\\\\', '/')\n",
    "        dname_key = 'CL_DS_DIR'\n",
    "\n",
    "    copy(os.path.join(dnames[dname_key], songs_fname),\n",
    "        os.path.join(dnames['SONGS_PARSED_DIR'], new_fname))"
   ]
  },
  {
   "cell_type": "markdown",
   "metadata": {},
   "source": [
    "# Split files on chords"
   ]
  },
  {
   "cell_type": "markdown",
   "metadata": {},
   "source": [
    "## Set chord ds"
   ]
  },
  {
   "cell_type": "code",
   "execution_count": 24,
   "metadata": {},
   "outputs": [],
   "source": [
    "chord_ds = pd.DataFrame(columns=['song_id', 'fullname', 'starttime', 'endtime'])"
   ]
  },
  {
   "cell_type": "code",
   "execution_count": 21,
   "metadata": {},
   "outputs": [
    {
     "ename": "FileNotFoundError",
     "evalue": "[Errno 2] No such file or directory: '../songs_parsed'",
     "output_type": "error",
     "traceback": [
      "\u001b[0;31m---------------------------------------------------------------------------\u001b[0m",
      "\u001b[0;31mFileNotFoundError\u001b[0m                         Traceback (most recent call last)",
      "\u001b[0;32m<ipython-input-21-dd972aee6537>\u001b[0m in \u001b[0;36m<module>\u001b[0;34m()\u001b[0m\n\u001b[0;32m----> 1\u001b[0;31m \u001b[0;32mfor\u001b[0m \u001b[0mparsed_name\u001b[0m \u001b[0;32min\u001b[0m \u001b[0mtqdm_notebook\u001b[0m\u001b[0;34m(\u001b[0m\u001b[0mos\u001b[0m\u001b[0;34m.\u001b[0m\u001b[0mlistdir\u001b[0m\u001b[0;34m(\u001b[0m\u001b[0mdnames\u001b[0m\u001b[0;34m[\u001b[0m\u001b[0;34m'SONGS_PARSED_DIR'\u001b[0m\u001b[0;34m]\u001b[0m\u001b[0;34m)\u001b[0m\u001b[0;34m)\u001b[0m\u001b[0;34m:\u001b[0m\u001b[0;34m\u001b[0m\u001b[0m\n\u001b[0m\u001b[1;32m      2\u001b[0m     \u001b[0msong_id\u001b[0m \u001b[0;34m=\u001b[0m \u001b[0mint\u001b[0m\u001b[0;34m(\u001b[0m\u001b[0mre\u001b[0m\u001b[0;34m.\u001b[0m\u001b[0mfindall\u001b[0m\u001b[0;34m(\u001b[0m\u001b[0;34mr'\\d+'\u001b[0m\u001b[0;34m,\u001b[0m \u001b[0mparsed_name\u001b[0m\u001b[0;34m)\u001b[0m\u001b[0;34m[\u001b[0m\u001b[0;36m0\u001b[0m\u001b[0;34m]\u001b[0m\u001b[0;34m)\u001b[0m\u001b[0;34m\u001b[0m\u001b[0m\n\u001b[1;32m      3\u001b[0m     \u001b[0;32mwith\u001b[0m \u001b[0mopen\u001b[0m\u001b[0;34m(\u001b[0m\u001b[0mos\u001b[0m\u001b[0;34m.\u001b[0m\u001b[0mpath\u001b[0m\u001b[0;34m.\u001b[0m\u001b[0mjoin\u001b[0m\u001b[0;34m(\u001b[0m\u001b[0mdnames\u001b[0m\u001b[0;34m[\u001b[0m\u001b[0;34m'SONGS_PARSED_DIR'\u001b[0m\u001b[0;34m]\u001b[0m\u001b[0;34m,\u001b[0m \u001b[0mparsed_name\u001b[0m\u001b[0;34m)\u001b[0m\u001b[0;34m)\u001b[0m \u001b[0;32mas\u001b[0m \u001b[0mf\u001b[0m\u001b[0;34m:\u001b[0m\u001b[0;34m\u001b[0m\u001b[0m\n\u001b[1;32m      4\u001b[0m         \u001b[0mlines\u001b[0m \u001b[0;34m=\u001b[0m \u001b[0mf\u001b[0m\u001b[0;34m.\u001b[0m\u001b[0mreadlines\u001b[0m\u001b[0;34m(\u001b[0m\u001b[0;34m)\u001b[0m\u001b[0;34m\u001b[0m\u001b[0m\n\u001b[1;32m      5\u001b[0m     \u001b[0;32mfor\u001b[0m \u001b[0mline\u001b[0m \u001b[0;32min\u001b[0m \u001b[0mlines\u001b[0m\u001b[0;34m:\u001b[0m\u001b[0;34m\u001b[0m\u001b[0m\n",
      "\u001b[0;31mFileNotFoundError\u001b[0m: [Errno 2] No such file or directory: '../songs_parsed'"
     ]
    }
   ],
   "source": [
    "for parsed_name in tqdm_notebook(os.listdir(dnames['SONGS_PARSED_DIR'])):\n",
    "    song_id = int(re.findall(r'\\d+', parsed_name)[0])\n",
    "    with open(os.path.join(dnames['SONGS_PARSED_DIR'], parsed_name)) as f:\n",
    "        lines = f.readlines()\n",
    "    for line in lines:\n",
    "        line = line.strip()\n",
    "        try:\n",
    "            stime, etime, fullname = re.split(r'\\s', line)\n",
    "            stime_f, etime_f = map(float, [stime,etime])\n",
    "            chord_ds = chord_ds.append(\n",
    "                {'song_id':song_id, 'fullname':fullname, 'starttime':stime_f, 'endtime':etime_f}, ignore_index=True)\n",
    "        except Exception as e:\n",
    "            print(line)\n",
    "            print(e)"
   ]
  },
  {
   "cell_type": "code",
   "execution_count": 22,
   "metadata": {},
   "outputs": [],
   "source": [
    "chord_ds['chord_id'] = chord_ds.index"
   ]
  },
  {
   "cell_type": "code",
   "execution_count": 23,
   "metadata": {},
   "outputs": [
    {
     "data": {
      "text/html": [
       "<div>\n",
       "<style scoped>\n",
       "    .dataframe tbody tr th:only-of-type {\n",
       "        vertical-align: middle;\n",
       "    }\n",
       "\n",
       "    .dataframe tbody tr th {\n",
       "        vertical-align: top;\n",
       "    }\n",
       "\n",
       "    .dataframe thead th {\n",
       "        text-align: right;\n",
       "    }\n",
       "</style>\n",
       "<table border=\"1\" class=\"dataframe\">\n",
       "  <thead>\n",
       "    <tr style=\"text-align: right;\">\n",
       "      <th></th>\n",
       "      <th>song_id</th>\n",
       "      <th>fullname</th>\n",
       "      <th>starttime</th>\n",
       "      <th>endtime</th>\n",
       "      <th>chord_id</th>\n",
       "    </tr>\n",
       "  </thead>\n",
       "  <tbody>\n",
       "  </tbody>\n",
       "</table>\n",
       "</div>"
      ],
      "text/plain": [
       "Empty DataFrame\n",
       "Columns: [song_id, fullname, starttime, endtime, chord_id]\n",
       "Index: []"
      ]
     },
     "execution_count": 23,
     "metadata": {},
     "output_type": "execute_result"
    }
   ],
   "source": [
    "chord_ds.head()"
   ]
  },
  {
   "cell_type": "code",
   "execution_count": 144,
   "metadata": {},
   "outputs": [],
   "source": [
    "chord_ds.to_csv(os.path.join(dnames['CSVS_DIR'], 'chord_ds.csv'))"
   ]
  },
  {
   "cell_type": "markdown",
   "metadata": {},
   "source": [
    "## Splitting to distinct files"
   ]
  },
  {
   "cell_type": "code",
   "execution_count": 28,
   "metadata": {},
   "outputs": [
    {
     "data": {
      "text/html": [
       "<div>\n",
       "<style scoped>\n",
       "    .dataframe tbody tr th:only-of-type {\n",
       "        vertical-align: middle;\n",
       "    }\n",
       "\n",
       "    .dataframe tbody tr th {\n",
       "        vertical-align: top;\n",
       "    }\n",
       "\n",
       "    .dataframe thead th {\n",
       "        text-align: right;\n",
       "    }\n",
       "</style>\n",
       "<table border=\"1\" class=\"dataframe\">\n",
       "  <thead>\n",
       "    <tr style=\"text-align: right;\">\n",
       "      <th></th>\n",
       "      <th>song_id</th>\n",
       "      <th>fullname</th>\n",
       "      <th>starttime</th>\n",
       "      <th>endtime</th>\n",
       "      <th>chord_id</th>\n",
       "    </tr>\n",
       "  </thead>\n",
       "  <tbody>\n",
       "    <tr>\n",
       "      <th>0</th>\n",
       "      <td>906</td>\n",
       "      <td>N</td>\n",
       "      <td>0.000000</td>\n",
       "      <td>0.628039</td>\n",
       "      <td>0</td>\n",
       "    </tr>\n",
       "    <tr>\n",
       "      <th>1</th>\n",
       "      <td>906</td>\n",
       "      <td>E</td>\n",
       "      <td>0.628039</td>\n",
       "      <td>1.064580</td>\n",
       "      <td>1</td>\n",
       "    </tr>\n",
       "    <tr>\n",
       "      <th>2</th>\n",
       "      <td>906</td>\n",
       "      <td>A/3</td>\n",
       "      <td>1.064580</td>\n",
       "      <td>1.575419</td>\n",
       "      <td>2</td>\n",
       "    </tr>\n",
       "    <tr>\n",
       "      <th>3</th>\n",
       "      <td>906</td>\n",
       "      <td>A:maj(*5)</td>\n",
       "      <td>1.575419</td>\n",
       "      <td>2.121088</td>\n",
       "      <td>3</td>\n",
       "    </tr>\n",
       "    <tr>\n",
       "      <th>4</th>\n",
       "      <td>906</td>\n",
       "      <td>N</td>\n",
       "      <td>2.121088</td>\n",
       "      <td>2.597097</td>\n",
       "      <td>4</td>\n",
       "    </tr>\n",
       "  </tbody>\n",
       "</table>\n",
       "</div>"
      ],
      "text/plain": [
       "   song_id   fullname  starttime   endtime  chord_id\n",
       "0      906          N   0.000000  0.628039         0\n",
       "1      906          E   0.628039  1.064580         1\n",
       "2      906        A/3   1.064580  1.575419         2\n",
       "3      906  A:maj(*5)   1.575419  2.121088         3\n",
       "4      906          N   2.121088  2.597097         4"
      ]
     },
     "execution_count": 28,
     "metadata": {},
     "output_type": "execute_result"
    }
   ],
   "source": [
    "chord_ds = pd.read_csv(os.path.join(dnames['CSVS_DIR'], 'chord_ds.csv'), index_col=0)\n",
    "chord_ds.head()"
   ]
  },
  {
   "cell_type": "code",
   "execution_count": 29,
   "metadata": {},
   "outputs": [
    {
     "data": {
      "application/vnd.jupyter.widget-view+json": {
       "model_id": "982e64f0dc314e91bdc07cf65425d767",
       "version_major": 2,
       "version_minor": 0
      },
      "text/plain": [
       "HBox(children=(IntProgress(value=0, max=1), HTML(value='')))"
      ]
     },
     "metadata": {},
     "output_type": "display_data"
    },
    {
     "name": "stdout",
     "output_type": "stream",
     "text": [
      "\n"
     ]
    },
    {
     "ename": "FileNotFoundError",
     "evalue": "[Errno 2] No such file or directory: '../../chords/chord_3418.npz'",
     "output_type": "error",
     "traceback": [
      "\u001b[0;31m---------------------------------------------------------------------------\u001b[0m",
      "\u001b[0;31mFileNotFoundError\u001b[0m                         Traceback (most recent call last)",
      "\u001b[0;32m<ipython-input-29-82537465d62c>\u001b[0m in \u001b[0;36m<module>\u001b[0;34m()\u001b[0m\n\u001b[1;32m      8\u001b[0m         \u001b[0msframe\u001b[0m\u001b[0;34m,\u001b[0m \u001b[0meframe\u001b[0m \u001b[0;34m=\u001b[0m \u001b[0mmap\u001b[0m\u001b[0;34m(\u001b[0m\u001b[0;32mlambda\u001b[0m \u001b[0mx\u001b[0m\u001b[0;34m:\u001b[0m\u001b[0mint\u001b[0m\u001b[0;34m(\u001b[0m\u001b[0mround\u001b[0m\u001b[0;34m(\u001b[0m\u001b[0mx\u001b[0m\u001b[0;34m/\u001b[0m\u001b[0mdelta_t\u001b[0m\u001b[0;34m)\u001b[0m\u001b[0;34m)\u001b[0m\u001b[0;34m,\u001b[0m \u001b[0;34m[\u001b[0m\u001b[0mrow\u001b[0m\u001b[0;34m[\u001b[0m\u001b[0;34m'starttime'\u001b[0m\u001b[0;34m]\u001b[0m\u001b[0;34m,\u001b[0m \u001b[0mrow\u001b[0m\u001b[0;34m[\u001b[0m\u001b[0;34m'endtime'\u001b[0m\u001b[0;34m]\u001b[0m\u001b[0;34m]\u001b[0m\u001b[0;34m)\u001b[0m\u001b[0;34m\u001b[0m\u001b[0m\n\u001b[1;32m      9\u001b[0m         \u001b[0mch_fname\u001b[0m \u001b[0;34m=\u001b[0m \u001b[0;34m'chord_{cid}'\u001b[0m\u001b[0;34m.\u001b[0m\u001b[0mformat\u001b[0m\u001b[0;34m(\u001b[0m\u001b[0mcid\u001b[0m\u001b[0;34m=\u001b[0m\u001b[0mrow\u001b[0m\u001b[0;34m[\u001b[0m\u001b[0;34m'chord_id'\u001b[0m\u001b[0;34m]\u001b[0m\u001b[0;34m)\u001b[0m\u001b[0;34m\u001b[0m\u001b[0m\n\u001b[0;32m---> 10\u001b[0;31m         \u001b[0mscipy\u001b[0m\u001b[0;34m.\u001b[0m\u001b[0msparse\u001b[0m\u001b[0;34m.\u001b[0m\u001b[0msave_npz\u001b[0m\u001b[0;34m(\u001b[0m\u001b[0mos\u001b[0m\u001b[0;34m.\u001b[0m\u001b[0mpath\u001b[0m\u001b[0;34m.\u001b[0m\u001b[0mjoin\u001b[0m\u001b[0;34m(\u001b[0m\u001b[0mdnames\u001b[0m\u001b[0;34m[\u001b[0m\u001b[0;34m'CHORDS_DIR'\u001b[0m\u001b[0;34m]\u001b[0m\u001b[0;34m,\u001b[0m \u001b[0mch_fname\u001b[0m\u001b[0;34m)\u001b[0m\u001b[0;34m,\u001b[0m\u001b[0msparse\u001b[0m\u001b[0;34m[\u001b[0m\u001b[0;34m:\u001b[0m\u001b[0;34m,\u001b[0m\u001b[0msframe\u001b[0m\u001b[0;34m:\u001b[0m\u001b[0meframe\u001b[0m\u001b[0;34m]\u001b[0m\u001b[0;34m)\u001b[0m\u001b[0;34m\u001b[0m\u001b[0m\n\u001b[0m",
      "\u001b[0;32m~/anaconda3/lib/python3.6/site-packages/scipy/sparse/_matrix_io.py\u001b[0m in \u001b[0;36msave_npz\u001b[0;34m(file, matrix, compressed)\u001b[0m\n\u001b[1;32m     76\u001b[0m     )\n\u001b[1;32m     77\u001b[0m     \u001b[0;32mif\u001b[0m \u001b[0mcompressed\u001b[0m\u001b[0;34m:\u001b[0m\u001b[0;34m\u001b[0m\u001b[0m\n\u001b[0;32m---> 78\u001b[0;31m         \u001b[0mnp\u001b[0m\u001b[0;34m.\u001b[0m\u001b[0msavez_compressed\u001b[0m\u001b[0;34m(\u001b[0m\u001b[0mfile\u001b[0m\u001b[0;34m,\u001b[0m \u001b[0;34m**\u001b[0m\u001b[0marrays_dict\u001b[0m\u001b[0;34m)\u001b[0m\u001b[0;34m\u001b[0m\u001b[0m\n\u001b[0m\u001b[1;32m     79\u001b[0m     \u001b[0;32melse\u001b[0m\u001b[0;34m:\u001b[0m\u001b[0;34m\u001b[0m\u001b[0m\n\u001b[1;32m     80\u001b[0m         \u001b[0mnp\u001b[0m\u001b[0;34m.\u001b[0m\u001b[0msavez\u001b[0m\u001b[0;34m(\u001b[0m\u001b[0mfile\u001b[0m\u001b[0;34m,\u001b[0m \u001b[0;34m**\u001b[0m\u001b[0marrays_dict\u001b[0m\u001b[0;34m)\u001b[0m\u001b[0;34m\u001b[0m\u001b[0m\n",
      "\u001b[0;32m~/anaconda3/lib/python3.6/site-packages/numpy/lib/npyio.py\u001b[0m in \u001b[0;36msavez_compressed\u001b[0;34m(file, *args, **kwds)\u001b[0m\n\u001b[1;32m    657\u001b[0m \u001b[0;34m\u001b[0m\u001b[0m\n\u001b[1;32m    658\u001b[0m     \"\"\"\n\u001b[0;32m--> 659\u001b[0;31m     \u001b[0m_savez\u001b[0m\u001b[0;34m(\u001b[0m\u001b[0mfile\u001b[0m\u001b[0;34m,\u001b[0m \u001b[0margs\u001b[0m\u001b[0;34m,\u001b[0m \u001b[0mkwds\u001b[0m\u001b[0;34m,\u001b[0m \u001b[0;32mTrue\u001b[0m\u001b[0;34m)\u001b[0m\u001b[0;34m\u001b[0m\u001b[0m\n\u001b[0m\u001b[1;32m    660\u001b[0m \u001b[0;34m\u001b[0m\u001b[0m\n\u001b[1;32m    661\u001b[0m \u001b[0;34m\u001b[0m\u001b[0m\n",
      "\u001b[0;32m~/anaconda3/lib/python3.6/site-packages/numpy/lib/npyio.py\u001b[0m in \u001b[0;36m_savez\u001b[0;34m(file, args, kwds, compress, allow_pickle, pickle_kwargs)\u001b[0m\n\u001b[1;32m    685\u001b[0m         \u001b[0mcompression\u001b[0m \u001b[0;34m=\u001b[0m \u001b[0mzipfile\u001b[0m\u001b[0;34m.\u001b[0m\u001b[0mZIP_STORED\u001b[0m\u001b[0;34m\u001b[0m\u001b[0m\n\u001b[1;32m    686\u001b[0m \u001b[0;34m\u001b[0m\u001b[0m\n\u001b[0;32m--> 687\u001b[0;31m     \u001b[0mzipf\u001b[0m \u001b[0;34m=\u001b[0m \u001b[0mzipfile_factory\u001b[0m\u001b[0;34m(\u001b[0m\u001b[0mfile\u001b[0m\u001b[0;34m,\u001b[0m \u001b[0mmode\u001b[0m\u001b[0;34m=\u001b[0m\u001b[0;34m\"w\"\u001b[0m\u001b[0;34m,\u001b[0m \u001b[0mcompression\u001b[0m\u001b[0;34m=\u001b[0m\u001b[0mcompression\u001b[0m\u001b[0;34m)\u001b[0m\u001b[0;34m\u001b[0m\u001b[0m\n\u001b[0m\u001b[1;32m    688\u001b[0m \u001b[0;34m\u001b[0m\u001b[0m\n\u001b[1;32m    689\u001b[0m     \u001b[0;32mif\u001b[0m \u001b[0msys\u001b[0m\u001b[0;34m.\u001b[0m\u001b[0mversion_info\u001b[0m \u001b[0;34m>=\u001b[0m \u001b[0;34m(\u001b[0m\u001b[0;36m3\u001b[0m\u001b[0;34m,\u001b[0m \u001b[0;36m6\u001b[0m\u001b[0;34m)\u001b[0m\u001b[0;34m:\u001b[0m\u001b[0;34m\u001b[0m\u001b[0m\n",
      "\u001b[0;32m~/anaconda3/lib/python3.6/site-packages/numpy/lib/npyio.py\u001b[0m in \u001b[0;36mzipfile_factory\u001b[0;34m(file, *args, **kwargs)\u001b[0m\n\u001b[1;32m    101\u001b[0m     \u001b[0;32mimport\u001b[0m \u001b[0mzipfile\u001b[0m\u001b[0;34m\u001b[0m\u001b[0m\n\u001b[1;32m    102\u001b[0m     \u001b[0mkwargs\u001b[0m\u001b[0;34m[\u001b[0m\u001b[0;34m'allowZip64'\u001b[0m\u001b[0;34m]\u001b[0m \u001b[0;34m=\u001b[0m \u001b[0;32mTrue\u001b[0m\u001b[0;34m\u001b[0m\u001b[0m\n\u001b[0;32m--> 103\u001b[0;31m     \u001b[0;32mreturn\u001b[0m \u001b[0mzipfile\u001b[0m\u001b[0;34m.\u001b[0m\u001b[0mZipFile\u001b[0m\u001b[0;34m(\u001b[0m\u001b[0mfile\u001b[0m\u001b[0;34m,\u001b[0m \u001b[0;34m*\u001b[0m\u001b[0margs\u001b[0m\u001b[0;34m,\u001b[0m \u001b[0;34m**\u001b[0m\u001b[0mkwargs\u001b[0m\u001b[0;34m)\u001b[0m\u001b[0;34m\u001b[0m\u001b[0m\n\u001b[0m\u001b[1;32m    104\u001b[0m \u001b[0;34m\u001b[0m\u001b[0m\n\u001b[1;32m    105\u001b[0m \u001b[0;34m\u001b[0m\u001b[0m\n",
      "\u001b[0;32m~/anaconda3/lib/python3.6/zipfile.py\u001b[0m in \u001b[0;36m__init__\u001b[0;34m(self, file, mode, compression, allowZip64)\u001b[0m\n\u001b[1;32m   1088\u001b[0m             \u001b[0;32mwhile\u001b[0m \u001b[0;32mTrue\u001b[0m\u001b[0;34m:\u001b[0m\u001b[0;34m\u001b[0m\u001b[0m\n\u001b[1;32m   1089\u001b[0m                 \u001b[0;32mtry\u001b[0m\u001b[0;34m:\u001b[0m\u001b[0;34m\u001b[0m\u001b[0m\n\u001b[0;32m-> 1090\u001b[0;31m                     \u001b[0mself\u001b[0m\u001b[0;34m.\u001b[0m\u001b[0mfp\u001b[0m \u001b[0;34m=\u001b[0m \u001b[0mio\u001b[0m\u001b[0;34m.\u001b[0m\u001b[0mopen\u001b[0m\u001b[0;34m(\u001b[0m\u001b[0mfile\u001b[0m\u001b[0;34m,\u001b[0m \u001b[0mfilemode\u001b[0m\u001b[0;34m)\u001b[0m\u001b[0;34m\u001b[0m\u001b[0m\n\u001b[0m\u001b[1;32m   1091\u001b[0m                 \u001b[0;32mexcept\u001b[0m \u001b[0mOSError\u001b[0m\u001b[0;34m:\u001b[0m\u001b[0;34m\u001b[0m\u001b[0m\n\u001b[1;32m   1092\u001b[0m                     \u001b[0;32mif\u001b[0m \u001b[0mfilemode\u001b[0m \u001b[0;32min\u001b[0m \u001b[0mmodeDict\u001b[0m\u001b[0;34m:\u001b[0m\u001b[0;34m\u001b[0m\u001b[0m\n",
      "\u001b[0;31mFileNotFoundError\u001b[0m: [Errno 2] No such file or directory: '../../chords/chord_3418.npz'"
     ]
    }
   ],
   "source": [
    "for spectr_fname in tqdm_notebook(os.listdir(os.path.join(dnames['SPECTRS_DIR']))):\n",
    "    song_id = int(re.findall(r'\\d+', spectr_fname)[0])\n",
    "    sparse = scipy.sparse.load_npz(os.path.join(dnames['SPECTRS_DIR'],spectr_fname))\n",
    "    \n",
    "#    for idx, row in tqdm_notebook(chord_ds[chord_ds['song_id']==song_id].iterrows(), \n",
    "#                                  total=sum(chord_ds['song_id']==song_id), leave=False):\n",
    "    for idx, row in chord_ds[chord_ds['song_id']==song_id].iterrows(): \n",
    "        sframe, eframe = map(lambda x:int(round(x/delta_t)), [row['starttime'], row['endtime']])\n",
    "        ch_fname = 'chord_{cid}'.format(cid=row['chord_id'])\n",
    "        scipy.sparse.save_npz(os.path.join(dnames['CHORDS_DIR'], ch_fname),sparse[:,sframe:eframe])"
   ]
  },
  {
   "cell_type": "markdown",
   "metadata": {},
   "source": [
    "### Optimal timewidth for a single chord"
   ]
  },
  {
   "cell_type": "code",
   "execution_count": 33,
   "metadata": {},
   "outputs": [],
   "source": [
    "chord_ds['duration'] = chord_ds['endtime']-chord_ds['starttime']"
   ]
  },
  {
   "cell_type": "code",
   "execution_count": 34,
   "metadata": {},
   "outputs": [
    {
     "data": {
      "text/plain": [
       "3450     0.000000\n",
       "7903     3.317385\n",
       "6814     9.450679\n",
       "545     17.205355\n",
       "2783    22.619807\n",
       "Name: duration, dtype: float64"
      ]
     },
     "execution_count": 34,
     "metadata": {},
     "output_type": "execute_result"
    }
   ],
   "source": [
    "(chord_ds['duration']/delta_t).sort_values().head()"
   ]
  },
  {
   "cell_type": "code",
   "execution_count": 35,
   "metadata": {},
   "outputs": [
    {
     "data": {
      "text/plain": [
       "4883    91.784000\n",
       "785     54.341456\n",
       "7005    47.831000\n",
       "773     45.705348\n",
       "2213    42.469402\n",
       "Name: duration, dtype: float64"
      ]
     },
     "execution_count": 35,
     "metadata": {},
     "output_type": "execute_result"
    }
   ],
   "source": [
    "chord_ds['duration'].sort_values(ascending=False).head()"
   ]
  },
  {
   "cell_type": "code",
   "execution_count": 36,
   "metadata": {},
   "outputs": [],
   "source": [
    "xaxis = np.arange(0,0.016849, 0.000001)[1:]"
   ]
  },
  {
   "cell_type": "code",
   "execution_count": 37,
   "metadata": {},
   "outputs": [
    {
     "data": {
      "text/plain": [
       "0    0.628039\n",
       "1    0.436541\n",
       "2    0.510839\n",
       "3    0.545669\n",
       "4    0.476009\n",
       "Name: duration, dtype: float64"
      ]
     },
     "execution_count": 37,
     "metadata": {},
     "output_type": "execute_result"
    }
   ],
   "source": [
    "chord_ds['duration'].head()"
   ]
  },
  {
   "cell_type": "code",
   "execution_count": 38,
   "metadata": {},
   "outputs": [
    {
     "data": {
      "text/plain": [
       "0    0.62803\n",
       "1    0.43654\n",
       "2    0.51083\n",
       "3    0.54566\n",
       "4    0.47600\n",
       "Name: duration, dtype: float64"
      ]
     },
     "execution_count": 38,
     "metadata": {},
     "output_type": "execute_result"
    }
   ],
   "source": [
    "k = 0.00001\n",
    "((chord_ds['duration']//k).astype(int)*k).head()"
   ]
  },
  {
   "cell_type": "code",
   "execution_count": 41,
   "metadata": {},
   "outputs": [],
   "source": [
    "yaxis = np.array([mean_absolute_error(y_pred=(chord_ds['duration']/delta_t//k)*k*delta_t, y_true=chord_ds['duration'])\n",
    "                 for k in xaxis])"
   ]
  },
  {
   "cell_type": "code",
   "execution_count": 42,
   "metadata": {},
   "outputs": [
    {
     "data": {
      "image/png": "[encoded data removed]",
      "text/plain": [
       "<Figure size 432x288 with 1 Axes>"
      ]
     },
     "metadata": {
      "needs_background": "light"
     },
     "output_type": "display_data"
    }
   ],
   "source": [
    "plt.plot(xaxis, yaxis)\n",
    "plt.show()"
   ]
  },
  {
   "cell_type": "code",
   "execution_count": 43,
   "metadata": {},
   "outputs": [
    {
     "data": {
      "text/plain": [
       "0       123.654066\n",
       "1        85.950187\n",
       "2       100.578657\n",
       "3       107.436306\n",
       "4        93.721008\n",
       "5       100.578657\n",
       "6       105.150423\n",
       "7        91.435125\n",
       "8        96.006891\n",
       "9       107.436306\n",
       "10       98.292774\n",
       "11       91.435125\n",
       "12       98.292774\n",
       "13      102.864540\n",
       "14      100.578657\n",
       "15       89.149242\n",
       "16       64.004725\n",
       "17      146.296121\n",
       "18      230.873794\n",
       "19      146.338059\n",
       "20      242.261272\n",
       "21      148.582201\n",
       "22      251.446545\n",
       "23      150.868084\n",
       "24      242.303012\n",
       "25      158.068517\n",
       "26      228.244930\n",
       "27      164.221894\n",
       "28      231.235086\n",
       "29      811.759401\n",
       "           ...    \n",
       "9744    502.893286\n",
       "9745    507.465052\n",
       "9746    505.179169\n",
       "9747    521.180350\n",
       "9748    509.750935\n",
       "9749    518.894467\n",
       "9750    505.179169\n",
       "9751    512.036818\n",
       "9752    332.758220\n",
       "9753    179.278401\n",
       "9754    509.750935\n",
       "9755    516.608584\n",
       "9756    507.465052\n",
       "9757    514.322701\n",
       "9758    500.607403\n",
       "9759    514.322701\n",
       "9760    509.750935\n",
       "9761    516.608584\n",
       "9762    509.750935\n",
       "9763    505.179169\n",
       "9764    505.179169\n",
       "9765    512.036818\n",
       "9766    514.322701\n",
       "9767    514.322701\n",
       "9768    512.036621\n",
       "9769    514.322701\n",
       "9770    516.608584\n",
       "9771    267.447923\n",
       "9772    729.053554\n",
       "9773    920.096279\n",
       "Name: duration, Length: 9774, dtype: float64"
      ]
     },
     "execution_count": 43,
     "metadata": {},
     "output_type": "execute_result"
    }
   ],
   "source": [
    "chord_ds['duration']/delta_t"
   ]
  },
  {
   "cell_type": "markdown",
   "metadata": {},
   "source": [
    "Optimal coefficient does not exist.\n",
    "Let's use k=0.005 sec"
   ]
  },
  {
   "cell_type": "code",
   "execution_count": 44,
   "metadata": {},
   "outputs": [
    {
     "data": {
      "image/png": "[encoded data removed]",
      "text/plain": [
       "<Figure size 432x288 with 1 Axes>"
      ]
     },
     "metadata": {
      "needs_background": "light"
     },
     "output_type": "display_data"
    }
   ],
   "source": [
    "plt.hist((chord_ds['duration']/delta_t)[(chord_ds['duration']/delta_t)<1000], log=True)\n",
    "plt.show()"
   ]
  },
  {
   "cell_type": "code",
   "execution_count": 45,
   "metadata": {},
   "outputs": [],
   "source": [
    "k = 10"
   ]
  },
  {
   "cell_type": "code",
   "execution_count": 64,
   "metadata": {},
   "outputs": [
    {
     "data": {
      "application/vnd.jupyter.widget-view+json": {
       "model_id": "31a80b57fcc643578fa9dde42cccad78",
       "version_major": 2,
       "version_minor": 0
      },
      "text/plain": [
       "HBox(children=(IntProgress(value=0, max=900), HTML(value='')))"
      ]
     },
     "metadata": {},
     "output_type": "display_data"
    },
    {
     "name": "stdout",
     "output_type": "stream",
     "text": [
      "\n"
     ]
    },
    {
     "data": {
      "text/html": [
       "<div>\n",
       "<style scoped>\n",
       "    .dataframe tbody tr th:only-of-type {\n",
       "        vertical-align: middle;\n",
       "    }\n",
       "\n",
       "    .dataframe tbody tr th {\n",
       "        vertical-align: top;\n",
       "    }\n",
       "\n",
       "    .dataframe thead th {\n",
       "        text-align: right;\n",
       "    }\n",
       "</style>\n",
       "<table border=\"1\" class=\"dataframe\">\n",
       "  <thead>\n",
       "    <tr style=\"text-align: right;\">\n",
       "      <th></th>\n",
       "      <th>song_id</th>\n",
       "      <th>fullname</th>\n",
       "      <th>starttime</th>\n",
       "      <th>endtime</th>\n",
       "      <th>chord_id</th>\n",
       "      <th>duration</th>\n",
       "      <th>id</th>\n",
       "    </tr>\n",
       "  </thead>\n",
       "  <tbody>\n",
       "    <tr>\n",
       "      <th>0</th>\n",
       "      <td>906</td>\n",
       "      <td>E:(1)</td>\n",
       "      <td>119.730158</td>\n",
       "      <td>119.780948</td>\n",
       "      <td>100</td>\n",
       "      <td>0.05079</td>\n",
       "      <td>0</td>\n",
       "    </tr>\n",
       "    <tr>\n",
       "      <th>1</th>\n",
       "      <td>906</td>\n",
       "      <td>E:(1)</td>\n",
       "      <td>119.780948</td>\n",
       "      <td>119.831738</td>\n",
       "      <td>100</td>\n",
       "      <td>0.05079</td>\n",
       "      <td>1</td>\n",
       "    </tr>\n",
       "    <tr>\n",
       "      <th>2</th>\n",
       "      <td>906</td>\n",
       "      <td>E:(1)</td>\n",
       "      <td>119.831738</td>\n",
       "      <td>119.882528</td>\n",
       "      <td>100</td>\n",
       "      <td>0.05079</td>\n",
       "      <td>2</td>\n",
       "    </tr>\n",
       "    <tr>\n",
       "      <th>3</th>\n",
       "      <td>906</td>\n",
       "      <td>E:(1)</td>\n",
       "      <td>119.882528</td>\n",
       "      <td>119.933318</td>\n",
       "      <td>100</td>\n",
       "      <td>0.05079</td>\n",
       "      <td>3</td>\n",
       "    </tr>\n",
       "    <tr>\n",
       "      <th>4</th>\n",
       "      <td>906</td>\n",
       "      <td>E:(1)</td>\n",
       "      <td>119.933318</td>\n",
       "      <td>119.984108</td>\n",
       "      <td>100</td>\n",
       "      <td>0.05079</td>\n",
       "      <td>4</td>\n",
       "    </tr>\n",
       "  </tbody>\n",
       "</table>\n",
       "</div>"
      ],
      "text/plain": [
       "  song_id fullname   starttime     endtime chord_id  duration id\n",
       "0     906    E:(1)  119.730158  119.780948      100   0.05079  0\n",
       "1     906    E:(1)  119.780948  119.831738      100   0.05079  1\n",
       "2     906    E:(1)  119.831738  119.882528      100   0.05079  2\n",
       "3     906    E:(1)  119.882528  119.933318      100   0.05079  3\n",
       "4     906    E:(1)  119.933318  119.984108      100   0.05079  4"
      ]
     },
     "execution_count": 64,
     "metadata": {},
     "output_type": "execute_result"
    }
   ],
   "source": [
    "c_id = 0\n",
    "X_ds = pd.DataFrame(columns=chord_ds.columns.tolist()+['id'])\n",
    "cds = chord_ds[100:1000]\n",
    "for chord_id, row in tqdm_notebook(cds.iterrows(), total=len(cds)):\n",
    "    chord_fname = 'chord_{}.npz'.format(chord_id)\n",
    "    chord = scipy.sparse.load_npz(os.path.join(dnames['CHORDS_DIR'], chord_fname))\n",
    "    \n",
    "    start_t, end_t = row[['starttime', 'endtime']] \n",
    "    for i in range(chord.shape[1]//k):\n",
    "        c = chord[:,k*i:k*(i+1)]\n",
    "        c_fname = 'X_{}'.format(c_id)\n",
    "        st, et = [start_t+delta_t*k*x for x in [i, i+1]]# ]start_t+delta_t*i, start_t+delta_t*(i+1)\n",
    "        X_ds = X_ds.append(pd.Series({'chord_id':row['chord_id'], 'song_id':row['song_id'], 'starttime':st, 'endtime':et,\n",
    "                           'fullname':row['fullname'], 'id':c_id, 'duration':et-st},name=c_id))\n",
    "        c_id +=1\n",
    "        scipy.sparse.save_npz(os.path.join(dnames['X_DS_DIR'], c_fname), c)\n",
    "X_ds.head()"
   ]
  },
  {
   "cell_type": "code",
   "execution_count": 65,
   "metadata": {},
   "outputs": [],
   "source": [
    "X_ds.to_csv(os.path.join(dnames['CSVS_DIR'], 'X_ds.csv'))"
   ]
  },
  {
   "cell_type": "markdown",
   "metadata": {},
   "source": [
    "Conclusion. Songs now divided on sample 10 frames width. Each frame lasts 0.05079 seconds"
   ]
  },
  {
   "cell_type": "markdown",
   "metadata": {},
   "source": [
    "# Mapping chords"
   ]
  },
  {
   "cell_type": "code",
   "execution_count": 67,
   "metadata": {},
   "outputs": [
    {
     "data": {
      "text/plain": [
       "396"
      ]
     },
     "execution_count": 67,
     "metadata": {},
     "output_type": "execute_result"
    }
   ],
   "source": [
    "chord_ds['fullname'].nunique()"
   ]
  },
  {
   "cell_type": "code",
   "execution_count": 178,
   "metadata": {},
   "outputs": [],
   "source": [
    "def map_tone(fullnames):\n",
    "    return [re.findall(r'[A-GN][#b]?', x)[0] for x in fullnames]\n",
    "\n",
    "def map_majmin(fullnames):\n",
    "    l = []\n",
    "    for fn in fullnames:\n",
    "        if re.fullmatch('[A-G][#b]?(:maj)?', fn):\n",
    "            l.append('maj')\n",
    "        elif re.fullmatch('[A-G][#b]?:min', fn):\n",
    "            l.append('min')\n",
    "        else:\n",
    "            l.append(None)\n",
    "    return l"
   ]
  },
  {
   "cell_type": "code",
   "execution_count": 180,
   "metadata": {},
   "outputs": [],
   "source": [
    "chord_ds['tone'] = map_tone(chord_ds['fullname'])\n",
    "chord_ds['majmin'] = map_majmin(chord_ds['fullname'])"
   ]
  },
  {
   "cell_type": "code",
   "execution_count": 202,
   "metadata": {},
   "outputs": [],
   "source": [
    "chord_ds.to_csv(os.path.join(dnames['CSVS_DIR'], 'chord_ds.csv'))"
   ]
  },
  {
   "cell_type": "code",
   "execution_count": 200,
   "metadata": {},
   "outputs": [],
   "source": [
    "X_ds['tone'] = map_tone(X_ds['fullname'])\n",
    "X_ds['majmin'] = map_majmin(X_ds['fullname'])"
   ]
  },
  {
   "cell_type": "code",
   "execution_count": 203,
   "metadata": {},
   "outputs": [],
   "source": [
    "X_ds.to_csv(os.path.join(dnames['CSVS_DIR'], 'X_ds.csv'))"
   ]
  },
  {
   "cell_type": "code",
   "execution_count": 196,
   "metadata": {},
   "outputs": [
    {
     "data": {
      "image/png": "[encoded data removed]",
      "text/plain": [
       "<Figure size 432x288 with 1 Axes>"
      ]
     },
     "metadata": {
      "needs_background": "light"
     },
     "output_type": "display_data"
    }
   ],
   "source": [
    "cds = chord_ds.groupby('majmin').count()['chord_id']\n",
    "plt.barh(y=cds.index, width=cds)\n",
    "plt.show()"
   ]
  }
 ],
 "metadata": {
  "kernelspec": {
   "display_name": "Python 3",
   "language": "python",
   "name": "python3"
  },
  "language_info": {
   "codemirror_mode": {
    "name": "ipython",
    "version": 3
   },
   "file_extension": ".py",
   "mimetype": "text/x-python",
   "name": "python",
   "nbconvert_exporter": "python",
   "pygments_lexer": "ipython3",
   "version": "3.6.6"
  }
 },
 "nbformat": 4,
 "nbformat_minor": 2
}
